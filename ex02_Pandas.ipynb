{
 "cells": [
  {
   "cell_type": "markdown",
   "id": "70b2aa8f",
   "metadata": {},
   "source": [
    "#### Pandas 객체(자료구조)\n",
    "- 1차원 : 시리즈(Series)\n",
    "- 2차원 : 데이터프레임(DataFrame)"
   ]
  },
  {
   "cell_type": "code",
   "execution_count": 1,
   "id": "29f3fda7",
   "metadata": {
    "ExecuteTime": {
     "end_time": "2022-12-12T05:29:01.242275Z",
     "start_time": "2022-12-12T05:29:00.238603Z"
    }
   },
   "outputs": [],
   "source": [
    "import pandas as pd"
   ]
  },
  {
   "cell_type": "code",
   "execution_count": 2,
   "id": "3d2da772",
   "metadata": {
    "ExecuteTime": {
     "end_time": "2022-12-12T05:29:01.258104Z",
     "start_time": "2022-12-12T05:29:01.243274Z"
    }
   },
   "outputs": [],
   "source": [
    "#pandas 모듈을 불러와서 pd라는 별칭으로 사용하겠다."
   ]
  },
  {
   "cell_type": "code",
   "execution_count": 3,
   "id": "4cbc4fb5",
   "metadata": {
    "ExecuteTime": {
     "end_time": "2022-12-12T05:29:01.273455Z",
     "start_time": "2022-12-12T05:29:01.259111Z"
    }
   },
   "outputs": [
    {
     "data": {
      "text/plain": [
       "0    9602000\n",
       "1    3344000\n",
       "2    1488000\n",
       "3    2419000\n",
       "dtype: int64"
      ]
     },
     "execution_count": 3,
     "metadata": {},
     "output_type": "execute_result"
    }
   ],
   "source": [
    "# 1차원 시리즈 생성\n",
    "# list이용\n",
    "# 도시별 인구수 나타내는 series 생성\n",
    "population = pd.Series([9602000,3344000,1488000,2419000])\n",
    "population"
   ]
  },
  {
   "cell_type": "code",
   "execution_count": 4,
   "id": "74d61997",
   "metadata": {
    "ExecuteTime": {
     "end_time": "2022-12-12T05:29:01.288419Z",
     "start_time": "2022-12-12T05:29:01.275483Z"
    }
   },
   "outputs": [
    {
     "data": {
      "text/plain": [
       "서울    9602000\n",
       "부산    3344000\n",
       "광주    1488000\n",
       "데구    2419000\n",
       "dtype: int64"
      ]
     },
     "execution_count": 4,
     "metadata": {},
     "output_type": "execute_result"
    }
   ],
   "source": [
    "# 시리즈 데이터에 인덱스를 지정하여 생성\n",
    "population = pd.Series([9602000,3344000,1488000,2419000],\n",
    "                      index = ['서울','부산','광주','데구'])\n",
    "population\n"
   ]
  },
  {
   "cell_type": "code",
   "execution_count": 5,
   "id": "fb514e6e",
   "metadata": {
    "ExecuteTime": {
     "end_time": "2022-12-12T05:29:01.303914Z",
     "start_time": "2022-12-12T05:29:01.288950Z"
    }
   },
   "outputs": [
    {
     "data": {
      "text/plain": [
       "서울    505.2\n",
       "부산    770.1\n",
       "광주    501.1\n",
       "대구    883.5\n",
       "dtype: float64"
      ]
     },
     "execution_count": 5,
     "metadata": {},
     "output_type": "execute_result"
    }
   ],
   "source": [
    "# 딕셔너리를 이용해서 시리즈 생성하기\n",
    "# 면적에 대한 정보 생성\n",
    "# 딕셔너리명 = {'key1',:value1,'key2',:value2,....}\n",
    "area = pd.Series({'서울':505.2, '부산':770.1, \"광주\":501.1, '대구':883.5})\n",
    "area"
   ]
  },
  {
   "cell_type": "markdown",
   "id": "b2c747ad",
   "metadata": {},
   "source": [
    "- 데이터 속성 확인"
   ]
  },
  {
   "cell_type": "code",
   "execution_count": 6,
   "id": "d7dbc91b",
   "metadata": {
    "ExecuteTime": {
     "end_time": "2022-12-12T05:29:01.319870Z",
     "start_time": "2022-12-12T05:29:01.304910Z"
    }
   },
   "outputs": [
    {
     "data": {
      "text/plain": [
       "array([9602000, 3344000, 1488000, 2419000], dtype=int64)"
      ]
     },
     "execution_count": 6,
     "metadata": {},
     "output_type": "execute_result"
    }
   ],
   "source": [
    "#1. value 값만 확인하고 싶을 때\n",
    "population.values # 출력결과의 형태 --> numpy 배열"
   ]
  },
  {
   "cell_type": "code",
   "execution_count": 7,
   "id": "97787dd1",
   "metadata": {
    "ExecuteTime": {
     "end_time": "2022-12-12T05:29:01.335829Z",
     "start_time": "2022-12-12T05:29:01.320868Z"
    }
   },
   "outputs": [
    {
     "data": {
      "text/plain": [
       "Index(['서울', '부산', '광주', '데구'], dtype='object')"
      ]
     },
     "execution_count": 7,
     "metadata": {},
     "output_type": "execute_result"
    }
   ],
   "source": [
    "# 2. 시리즈의 인덱스 값을 확인하고 싶을 때\n",
    "population.index #object ==> 문자열 자료형"
   ]
  },
  {
   "cell_type": "code",
   "execution_count": 8,
   "id": "d7d6cbcd",
   "metadata": {
    "ExecuteTime": {
     "end_time": "2022-12-12T05:29:01.351786Z",
     "start_time": "2022-12-12T05:29:01.336826Z"
    }
   },
   "outputs": [
    {
     "data": {
      "text/plain": [
       "dtype('float64')"
      ]
     },
     "execution_count": 8,
     "metadata": {},
     "output_type": "execute_result"
    }
   ],
   "source": [
    "# 3. 시리즈의 데이터 타입 확인\n",
    "population.dtype\n",
    "area.dtype"
   ]
  },
  {
   "cell_type": "markdown",
   "id": "cd68d48f",
   "metadata": {},
   "source": [
    "##### 시리즈(Series) 이름지정\n",
    "- 시리즈의 이름은 DataFrame의 컬럼명이 된다."
   ]
  },
  {
   "cell_type": "code",
   "execution_count": 9,
   "id": "7ef68343",
   "metadata": {
    "ExecuteTime": {
     "end_time": "2022-12-12T05:29:01.367742Z",
     "start_time": "2022-12-12T05:29:01.355774Z"
    }
   },
   "outputs": [
    {
     "data": {
      "text/plain": [
       "서울    9602000\n",
       "부산    3344000\n",
       "광주    1488000\n",
       "데구    2419000\n",
       "dtype: int64"
      ]
     },
     "execution_count": 9,
     "metadata": {},
     "output_type": "execute_result"
    }
   ],
   "source": [
    "population"
   ]
  },
  {
   "cell_type": "code",
   "execution_count": 10,
   "id": "96046806",
   "metadata": {
    "ExecuteTime": {
     "end_time": "2022-12-12T05:29:01.383700Z",
     "start_time": "2022-12-12T05:29:01.370735Z"
    }
   },
   "outputs": [
    {
     "data": {
      "text/plain": [
       "서울    9602000\n",
       "부산    3344000\n",
       "광주    1488000\n",
       "데구    2419000\n",
       "Name: 2020 인구, dtype: int64"
      ]
     },
     "execution_count": 10,
     "metadata": {},
     "output_type": "execute_result"
    }
   ],
   "source": [
    "population.name ='2020 인구'\n",
    "population"
   ]
  },
  {
   "cell_type": "code",
   "execution_count": 11,
   "id": "13ae52bb",
   "metadata": {
    "ExecuteTime": {
     "end_time": "2022-12-12T05:29:01.399657Z",
     "start_time": "2022-12-12T05:29:01.384696Z"
    }
   },
   "outputs": [
    {
     "data": {
      "text/plain": [
       "도시\n",
       "서울    9602000\n",
       "부산    3344000\n",
       "광주    1488000\n",
       "데구    2419000\n",
       "Name: 2020 인구, dtype: int64"
      ]
     },
     "execution_count": 11,
     "metadata": {},
     "output_type": "execute_result"
    }
   ],
   "source": [
    "population.index.name = '도시'\n",
    "population"
   ]
  },
  {
   "cell_type": "code",
   "execution_count": 12,
   "id": "c82e0cd4",
   "metadata": {
    "ExecuteTime": {
     "end_time": "2022-12-12T05:29:01.415614Z",
     "start_time": "2022-12-12T05:29:01.400654Z"
    }
   },
   "outputs": [
    {
     "data": {
      "text/plain": [
       "지역\n",
       "서울    9602000\n",
       "부산    3344000\n",
       "광주    1488000\n",
       "데구    2419000\n",
       "Name: 2020 인구, dtype: int64"
      ]
     },
     "execution_count": 12,
     "metadata": {},
     "output_type": "execute_result"
    }
   ],
   "source": [
    "population.index.name = '지역'\n",
    "population"
   ]
  },
  {
   "cell_type": "markdown",
   "id": "56609aed",
   "metadata": {},
   "source": [
    "##### 시리즈 데이터  갱신, 삭제, 추가"
   ]
  },
  {
   "cell_type": "code",
   "execution_count": 13,
   "id": "e4d7992b",
   "metadata": {
    "ExecuteTime": {
     "end_time": "2022-12-12T05:29:01.431571Z",
     "start_time": "2022-12-12T05:29:01.416612Z"
    }
   },
   "outputs": [
    {
     "data": {
      "text/plain": [
       "지역\n",
       "서울    9602000\n",
       "부산    3344000\n",
       "광주    1488000\n",
       "데구    2419000\n",
       "Name: 2020 인구, dtype: int64"
      ]
     },
     "execution_count": 13,
     "metadata": {},
     "output_type": "execute_result"
    }
   ],
   "source": [
    "population"
   ]
  },
  {
   "cell_type": "code",
   "execution_count": 14,
   "id": "22f9433c",
   "metadata": {
    "ExecuteTime": {
     "end_time": "2022-12-12T05:29:01.447529Z",
     "start_time": "2022-12-12T05:29:01.432570Z"
    }
   },
   "outputs": [
    {
     "data": {
      "text/plain": [
       "지역\n",
       "서울    9602000\n",
       "부산    3500000\n",
       "광주    1488000\n",
       "데구    2419000\n",
       "Name: 2020 인구, dtype: int64"
      ]
     },
     "execution_count": 14,
     "metadata": {},
     "output_type": "execute_result"
    }
   ],
   "source": [
    "# 갱신 (수정) ==> 1. 인덱스 위치 접근, 2. 값을 대입\n",
    "population['부산'] = 3500000\n",
    "population"
   ]
  },
  {
   "cell_type": "code",
   "execution_count": 15,
   "id": "bbd58e89",
   "metadata": {
    "ExecuteTime": {
     "end_time": "2022-12-12T05:29:01.463486Z",
     "start_time": "2022-12-12T05:29:01.448526Z"
    }
   },
   "outputs": [],
   "source": [
    "# 삭제 : drop()\n",
    "# population.drop('부산', inplace =True) 완전 삭제 # 데이터를 삭제하고 원래 위치에 반영(초기화)\n",
    "# inplace의 기본값은 False\n",
    "# population = population.drop('부산') #삭제된 데이터 결과를 원래의 변수에 대입\n"
   ]
  },
  {
   "cell_type": "code",
   "execution_count": 16,
   "id": "2b0109a8",
   "metadata": {
    "ExecuteTime": {
     "end_time": "2022-12-12T05:29:01.479443Z",
     "start_time": "2022-12-12T05:29:01.464484Z"
    }
   },
   "outputs": [
    {
     "data": {
      "text/plain": [
       "지역\n",
       "서울    9602000\n",
       "부산    3500000\n",
       "광주    1488000\n",
       "데구    2419000\n",
       "전주     140000\n",
       "Name: 2020 인구, dtype: int64"
      ]
     },
     "execution_count": 16,
     "metadata": {},
     "output_type": "execute_result"
    }
   ],
   "source": [
    "# 추가 : 없는 키값을 불러주고 대입\n",
    "# '전주' : 1400000\n",
    "population['전주'] = 140000\n",
    "population\n"
   ]
  },
  {
   "attachments": {
    "image.png": {
     "image/png": "[encoded data removed]"
    }
   },
   "cell_type": "markdown",
   "id": "617d86ef",
   "metadata": {},
   "source": [
    "![image.png](attachment:image.png)"
   ]
  },
  {
   "cell_type": "code",
   "execution_count": 17,
   "id": "0309857a",
   "metadata": {
    "ExecuteTime": {
     "end_time": "2022-12-12T05:29:01.495401Z",
     "start_time": "2022-12-12T05:29:01.480441Z"
    }
   },
   "outputs": [
    {
     "data": {
      "text/plain": [
       "도시\n",
       "서울    9602000\n",
       "부산    3344000\n",
       "광주    1488000\n",
       "데구    2419000\n",
       "전주     140000\n",
       "인천    2951000\n",
       "Name: 2020 인구, dtype: int64"
      ]
     },
     "execution_count": 17,
     "metadata": {},
     "output_type": "execute_result"
    }
   ],
   "source": [
    "# 인덱스 이름 변경 지역 ==> 도시\n",
    "population.index.name = '도시'\n",
    "population\n",
    "# 부산 데이터 변경\n",
    "population['부산'] = 3344000\n",
    "population\n",
    "population['인천'] = 2951000\n",
    "population"
   ]
  },
  {
   "attachments": {
    "image.png": {
     "image/png": "[encoded data removed]"
    }
   },
   "cell_type": "markdown",
   "id": "f10a76af",
   "metadata": {},
   "source": [
    "![image.png](attachment:image.png)\n"
   ]
  },
  {
   "cell_type": "code",
   "execution_count": 18,
   "id": "f1c0c3a7",
   "metadata": {
    "ExecuteTime": {
     "end_time": "2022-12-12T05:29:01.511388Z",
     "start_time": "2022-12-12T05:29:01.496398Z"
    },
    "scrolled": true
   },
   "outputs": [
    {
     "data": {
      "text/plain": [
       "지역\n",
       "서울      505.2\n",
       "부산      770.1\n",
       "광주      501.1\n",
       "대구      883.5\n",
       "전주      883.5\n",
       "인천     1065.2\n",
       "Name: 면적㎞, dtype: float64"
      ]
     },
     "execution_count": 18,
     "metadata": {},
     "output_type": "execute_result"
    }
   ],
   "source": [
    "# 인덱스 이름 설정\n",
    "area.index.name = '지역'\n",
    "# 시리즈 이름 설정\n",
    "area.name = \"면적㎞\"\n",
    "# 데이터 추가\n",
    "area['전주 '] =883.5\n",
    "area['인천 '] =1065.2\n",
    "area"
   ]
  },
  {
   "attachments": {
    "image.png": {
     "image/png": "[encoded data removed]"
    }
   },
   "cell_type": "markdown",
   "id": "79359134",
   "metadata": {},
   "source": [
    "##### 시리즈 병합 (concat)\n",
    "- 1차원을 연결하여 2차원으로 변환\n",
    "- 시리즈의 이름이 데이터프레임의 컬럼명이 됨\n",
    "![image.png](attachment:image.png)\n"
   ]
  },
  {
   "cell_type": "code",
   "execution_count": 19,
   "id": "753fb58a",
   "metadata": {
    "ExecuteTime": {
     "end_time": "2022-12-12T05:29:01.527315Z",
     "start_time": "2022-12-12T05:29:01.512355Z"
    }
   },
   "outputs": [
    {
     "data": {
      "text/plain": [
       "서울     9602000.0\n",
       "부산     3344000.0\n",
       "광주     1488000.0\n",
       "데구     2419000.0\n",
       "전주      140000.0\n",
       "인천     2951000.0\n",
       "서울         505.2\n",
       "부산         770.1\n",
       "광주         501.1\n",
       "대구         883.5\n",
       "전주         883.5\n",
       "인천        1065.2\n",
       "dtype: float64"
      ]
     },
     "execution_count": 19,
     "metadata": {},
     "output_type": "execute_result"
    }
   ],
   "source": [
    "# axis = 0 : 행방향\n",
    "# axis = 1 : 열방향\n",
    "df = pd.concat([population, area])\n",
    "df"
   ]
  },
  {
   "cell_type": "code",
   "execution_count": 20,
   "id": "e1f7bc9f",
   "metadata": {
    "ExecuteTime": {
     "end_time": "2022-12-12T05:29:01.543273Z",
     "start_time": "2022-12-12T05:29:01.528313Z"
    },
    "scrolled": true
   },
   "outputs": [
    {
     "data": {
      "text/html": [
       "<div>\n",
       "<style scoped>\n",
       "    .dataframe tbody tr th:only-of-type {\n",
       "        vertical-align: middle;\n",
       "    }\n",
       "\n",
       "    .dataframe tbody tr th {\n",
       "        vertical-align: top;\n",
       "    }\n",
       "\n",
       "    .dataframe thead th {\n",
       "        text-align: right;\n",
       "    }\n",
       "</style>\n",
       "<table border=\"1\" class=\"dataframe\">\n",
       "  <thead>\n",
       "    <tr style=\"text-align: right;\">\n",
       "      <th></th>\n",
       "      <th>2020 인구</th>\n",
       "      <th>면적㎞</th>\n",
       "    </tr>\n",
       "  </thead>\n",
       "  <tbody>\n",
       "    <tr>\n",
       "      <th>서울</th>\n",
       "      <td>9602000.0</td>\n",
       "      <td>505.2</td>\n",
       "    </tr>\n",
       "    <tr>\n",
       "      <th>부산</th>\n",
       "      <td>3344000.0</td>\n",
       "      <td>770.1</td>\n",
       "    </tr>\n",
       "    <tr>\n",
       "      <th>광주</th>\n",
       "      <td>1488000.0</td>\n",
       "      <td>501.1</td>\n",
       "    </tr>\n",
       "    <tr>\n",
       "      <th>데구</th>\n",
       "      <td>2419000.0</td>\n",
       "      <td>NaN</td>\n",
       "    </tr>\n",
       "    <tr>\n",
       "      <th>전주</th>\n",
       "      <td>140000.0</td>\n",
       "      <td>NaN</td>\n",
       "    </tr>\n",
       "    <tr>\n",
       "      <th>인천</th>\n",
       "      <td>2951000.0</td>\n",
       "      <td>NaN</td>\n",
       "    </tr>\n",
       "    <tr>\n",
       "      <th>대구</th>\n",
       "      <td>NaN</td>\n",
       "      <td>883.5</td>\n",
       "    </tr>\n",
       "    <tr>\n",
       "      <th>전주</th>\n",
       "      <td>NaN</td>\n",
       "      <td>883.5</td>\n",
       "    </tr>\n",
       "    <tr>\n",
       "      <th>인천</th>\n",
       "      <td>NaN</td>\n",
       "      <td>1065.2</td>\n",
       "    </tr>\n",
       "  </tbody>\n",
       "</table>\n",
       "</div>"
      ],
      "text/plain": [
       "       2020 인구     면적㎞\n",
       "서울   9602000.0   505.2\n",
       "부산   3344000.0   770.1\n",
       "광주   1488000.0   501.1\n",
       "데구   2419000.0     NaN\n",
       "전주    140000.0     NaN\n",
       "인천   2951000.0     NaN\n",
       "대구         NaN   883.5\n",
       "전주         NaN   883.5\n",
       "인천         NaN  1065.2"
      ]
     },
     "execution_count": 20,
     "metadata": {},
     "output_type": "execute_result"
    }
   ],
   "source": [
    "df2 = pd.concat([population,area], axis = 1)\n",
    "df2"
   ]
  },
  {
   "cell_type": "markdown",
   "id": "160f1ce5",
   "metadata": {},
   "source": [
    "##### 2차원 데이터프레임(DataFrame) 생성"
   ]
  },
  {
   "cell_type": "code",
   "execution_count": 21,
   "id": "df8c0644",
   "metadata": {
    "ExecuteTime": {
     "end_time": "2022-12-12T05:29:01.559230Z",
     "start_time": "2022-12-12T05:29:01.544271Z"
    }
   },
   "outputs": [
    {
     "data": {
      "text/html": [
       "<div>\n",
       "<style scoped>\n",
       "    .dataframe tbody tr th:only-of-type {\n",
       "        vertical-align: middle;\n",
       "    }\n",
       "\n",
       "    .dataframe tbody tr th {\n",
       "        vertical-align: top;\n",
       "    }\n",
       "\n",
       "    .dataframe thead th {\n",
       "        text-align: right;\n",
       "    }\n",
       "</style>\n",
       "<table border=\"1\" class=\"dataframe\">\n",
       "  <thead>\n",
       "    <tr style=\"text-align: right;\">\n",
       "      <th></th>\n",
       "      <th>0</th>\n",
       "      <th>1</th>\n",
       "    </tr>\n",
       "  </thead>\n",
       "  <tbody>\n",
       "    <tr>\n",
       "      <th>0</th>\n",
       "      <td>9602000</td>\n",
       "      <td>605.2</td>\n",
       "    </tr>\n",
       "    <tr>\n",
       "      <th>1</th>\n",
       "      <td>2419000</td>\n",
       "      <td>883.5</td>\n",
       "    </tr>\n",
       "    <tr>\n",
       "      <th>2</th>\n",
       "      <td>14000000</td>\n",
       "      <td>883.5</td>\n",
       "    </tr>\n",
       "    <tr>\n",
       "      <th>3</th>\n",
       "      <td>2951000</td>\n",
       "      <td>1065.2</td>\n",
       "    </tr>\n",
       "  </tbody>\n",
       "</table>\n",
       "</div>"
      ],
      "text/plain": [
       "          0       1\n",
       "0   9602000   605.2\n",
       "1   2419000   883.5\n",
       "2  14000000   883.5\n",
       "3   2951000  1065.2"
      ]
     },
     "execution_count": 21,
     "metadata": {},
     "output_type": "execute_result"
    }
   ],
   "source": [
    "# list이용 데이터프레임 생성\n",
    "data = [[9602000, 605.2],[2419000,883.5],[14000000,883.5],[2951000,1065.2]] # 이중 리스트\n",
    "df3 = pd.DataFrame(data)\n",
    "df3"
   ]
  },
  {
   "cell_type": "code",
   "execution_count": 22,
   "id": "0f3bea80",
   "metadata": {
    "ExecuteTime": {
     "end_time": "2022-12-12T05:29:01.575187Z",
     "start_time": "2022-12-12T05:29:01.560227Z"
    }
   },
   "outputs": [
    {
     "data": {
      "text/html": [
       "<div>\n",
       "<style scoped>\n",
       "    .dataframe tbody tr th:only-of-type {\n",
       "        vertical-align: middle;\n",
       "    }\n",
       "\n",
       "    .dataframe tbody tr th {\n",
       "        vertical-align: top;\n",
       "    }\n",
       "\n",
       "    .dataframe thead th {\n",
       "        text-align: right;\n",
       "    }\n",
       "</style>\n",
       "<table border=\"1\" class=\"dataframe\">\n",
       "  <thead>\n",
       "    <tr style=\"text-align: right;\">\n",
       "      <th></th>\n",
       "      <th>2020 인구</th>\n",
       "      <th>면적(㎢)</th>\n",
       "    </tr>\n",
       "  </thead>\n",
       "  <tbody>\n",
       "    <tr>\n",
       "      <th>광주</th>\n",
       "      <td>9602000</td>\n",
       "      <td>605.2</td>\n",
       "    </tr>\n",
       "    <tr>\n",
       "      <th>대구</th>\n",
       "      <td>2419000</td>\n",
       "      <td>883.5</td>\n",
       "    </tr>\n",
       "    <tr>\n",
       "      <th>전주</th>\n",
       "      <td>14000000</td>\n",
       "      <td>883.5</td>\n",
       "    </tr>\n",
       "    <tr>\n",
       "      <th>인천</th>\n",
       "      <td>2951000</td>\n",
       "      <td>1065.2</td>\n",
       "    </tr>\n",
       "  </tbody>\n",
       "</table>\n",
       "</div>"
      ],
      "text/plain": [
       "     2020 인구   면적(㎢)\n",
       "광주   9602000   605.2\n",
       "대구   2419000   883.5\n",
       "전주  14000000   883.5\n",
       "인천   2951000  1065.2"
      ]
     },
     "execution_count": 22,
     "metadata": {},
     "output_type": "execute_result"
    }
   ],
   "source": [
    "# 인덱스명, 컬럼명 설정\n",
    "df3 = pd.DataFrame(data,index =['광주','대구','전주','인천'],\n",
    "            columns=['2020 인구','면적(㎢)'])\n",
    "df3 # 2 차원 데이터 프레임"
   ]
  },
  {
   "cell_type": "code",
   "execution_count": 23,
   "id": "23bb20d0",
   "metadata": {
    "ExecuteTime": {
     "end_time": "2022-12-12T05:29:01.590147Z",
     "start_time": "2022-12-12T05:29:01.576185Z"
    }
   },
   "outputs": [
    {
     "data": {
      "text/html": [
       "<div>\n",
       "<style scoped>\n",
       "    .dataframe tbody tr th:only-of-type {\n",
       "        vertical-align: middle;\n",
       "    }\n",
       "\n",
       "    .dataframe tbody tr th {\n",
       "        vertical-align: top;\n",
       "    }\n",
       "\n",
       "    .dataframe thead th {\n",
       "        text-align: right;\n",
       "    }\n",
       "</style>\n",
       "<table border=\"1\" class=\"dataframe\">\n",
       "  <thead>\n",
       "    <tr style=\"text-align: right;\">\n",
       "      <th></th>\n",
       "      <th>2020인구</th>\n",
       "      <th>면적(㎢)</th>\n",
       "    </tr>\n",
       "  </thead>\n",
       "  <tbody>\n",
       "    <tr>\n",
       "      <th>광주</th>\n",
       "      <td>1488000</td>\n",
       "      <td>501.1</td>\n",
       "    </tr>\n",
       "    <tr>\n",
       "      <th>대구</th>\n",
       "      <td>2419000</td>\n",
       "      <td>883.5</td>\n",
       "    </tr>\n",
       "    <tr>\n",
       "      <th>전주</th>\n",
       "      <td>1400000</td>\n",
       "      <td>883.5</td>\n",
       "    </tr>\n",
       "    <tr>\n",
       "      <th>인천</th>\n",
       "      <td>2951000</td>\n",
       "      <td>1065.0</td>\n",
       "    </tr>\n",
       "  </tbody>\n",
       "</table>\n",
       "</div>"
      ],
      "text/plain": [
       "     2020인구   면적(㎢)\n",
       "광주  1488000   501.1\n",
       "대구  2419000   883.5\n",
       "전주  1400000   883.5\n",
       "인천  2951000  1065.0"
      ]
     },
     "execution_count": 23,
     "metadata": {},
     "output_type": "execute_result"
    }
   ],
   "source": [
    "# 딕셔너리를 이용하여 데이터프레임 생성\n",
    "data = {'2020인구' : [1488000,2419000,1400000,2951000],\n",
    "        '면적(㎢)' : [501.1,883.5,883.5,1065]}\n",
    "df4 = pd.DataFrame(data, index=['광주','대구','전주','인천'])\n",
    "df4"
   ]
  },
  {
   "attachments": {
    "image.png": {
     "image/png": "[encoded data removed]"
    }
   },
   "cell_type": "markdown",
   "id": "0fd905c3",
   "metadata": {},
   "source": [
    "![image.png](attachment:image.png)"
   ]
  },
  {
   "cell_type": "code",
   "execution_count": 24,
   "id": "1389591f",
   "metadata": {
    "ExecuteTime": {
     "end_time": "2022-12-12T05:29:01.606105Z",
     "start_time": "2022-12-12T05:29:01.592144Z"
    }
   },
   "outputs": [
    {
     "data": {
      "text/html": [
       "<div>\n",
       "<style scoped>\n",
       "    .dataframe tbody tr th:only-of-type {\n",
       "        vertical-align: middle;\n",
       "    }\n",
       "\n",
       "    .dataframe tbody tr th {\n",
       "        vertical-align: top;\n",
       "    }\n",
       "\n",
       "    .dataframe thead th {\n",
       "        text-align: right;\n",
       "    }\n",
       "</style>\n",
       "<table border=\"1\" class=\"dataframe\">\n",
       "  <thead>\n",
       "    <tr style=\"text-align: right;\">\n",
       "      <th></th>\n",
       "      <th>키</th>\n",
       "      <th>몸무게</th>\n",
       "      <th>나이</th>\n",
       "    </tr>\n",
       "  </thead>\n",
       "  <tbody>\n",
       "    <tr>\n",
       "      <th>홍길동</th>\n",
       "      <td>175.3</td>\n",
       "      <td>66.2</td>\n",
       "      <td>27.0</td>\n",
       "    </tr>\n",
       "    <tr>\n",
       "      <th>김사또</th>\n",
       "      <td>180.2</td>\n",
       "      <td>78.9</td>\n",
       "      <td>49.0</td>\n",
       "    </tr>\n",
       "    <tr>\n",
       "      <th>임꺽정</th>\n",
       "      <td>178.6</td>\n",
       "      <td>55.1</td>\n",
       "      <td>35.0</td>\n",
       "    </tr>\n",
       "  </tbody>\n",
       "</table>\n",
       "</div>"
      ],
      "text/plain": [
       "         키   몸무게    나이\n",
       "홍길동  175.3  66.2  27.0\n",
       "김사또  180.2  78.9  49.0\n",
       "임꺽정  178.6  55.1  35.0"
      ]
     },
     "execution_count": 24,
     "metadata": {},
     "output_type": "execute_result"
    }
   ],
   "source": [
    "실습 = [[175.3,66.2,27.0],[180.2,78.9,49.0],[178.6,55.1,35.0]] \n",
    "실습 = pd.DataFrame(실습,index =['홍길동','김사또','임꺽정'],\n",
    "            columns=['키','몸무게','나이'])\n",
    "실습\n",
    "\n",
    "실습1 = {'키' : [175.3, 180.2 ,178.6],\n",
    "        '몸무게' : [66.2,78.9,55.1],\n",
    "       '나이': [27.0,49.0,35.0]}\n",
    "실습1 = pd.DataFrame(실습1, index=['홍길동','김사또','임꺽정'])\n",
    "실습1"
   ]
  },
  {
   "cell_type": "code",
   "execution_count": 25,
   "id": "38d12a7f",
   "metadata": {
    "ExecuteTime": {
     "end_time": "2022-12-12T05:29:01.622062Z",
     "start_time": "2022-12-12T05:29:01.607102Z"
    }
   },
   "outputs": [
    {
     "data": {
      "text/html": [
       "<div>\n",
       "<style scoped>\n",
       "    .dataframe tbody tr th:only-of-type {\n",
       "        vertical-align: middle;\n",
       "    }\n",
       "\n",
       "    .dataframe tbody tr th {\n",
       "        vertical-align: top;\n",
       "    }\n",
       "\n",
       "    .dataframe thead th {\n",
       "        text-align: right;\n",
       "    }\n",
       "</style>\n",
       "<table border=\"1\" class=\"dataframe\">\n",
       "  <thead>\n",
       "    <tr style=\"text-align: right;\">\n",
       "      <th></th>\n",
       "      <th>키</th>\n",
       "      <th>몸무게</th>\n",
       "      <th>나이</th>\n",
       "    </tr>\n",
       "  </thead>\n",
       "  <tbody>\n",
       "    <tr>\n",
       "      <th>홍길동</th>\n",
       "      <td>175.3</td>\n",
       "      <td>66.2</td>\n",
       "      <td>27.0</td>\n",
       "    </tr>\n",
       "    <tr>\n",
       "      <th>김사또</th>\n",
       "      <td>180.2</td>\n",
       "      <td>78.9</td>\n",
       "      <td>49.0</td>\n",
       "    </tr>\n",
       "    <tr>\n",
       "      <th>임꺽정</th>\n",
       "      <td>178.6</td>\n",
       "      <td>55.1</td>\n",
       "      <td>35.0</td>\n",
       "    </tr>\n",
       "  </tbody>\n",
       "</table>\n",
       "</div>"
      ],
      "text/plain": [
       "         키   몸무게    나이\n",
       "홍길동  175.3  66.2  27.0\n",
       "김사또  180.2  78.9  49.0\n",
       "임꺽정  178.6  55.1  35.0"
      ]
     },
     "execution_count": 25,
     "metadata": {},
     "output_type": "execute_result"
    }
   ],
   "source": [
    "# 행과 열을 전환하는 키워드.T(전치 - transpace)\n",
    "실습1.T\n",
    "#.T는의 결과는 계속 바뀔 수 있다.\n",
    "실습1.T.T"
   ]
  },
  {
   "cell_type": "markdown",
   "id": "0e0c88e1",
   "metadata": {},
   "source": [
    "#### Pandas 데이터 접근하기 : 인덱싱 & 슬라이싱"
   ]
  },
  {
   "cell_type": "markdown",
   "id": "33671f56",
   "metadata": {
    "ExecuteTime": {
     "end_time": "2022-12-08T07:24:33.894118Z",
     "start_time": "2022-12-08T07:24:33.888163Z"
    }
   },
   "source": [
    "##### 시리즈 인덱싱"
   ]
  },
  {
   "attachments": {
    "image.png": {
     "image/png": "[encoded data removed]"
    }
   },
   "cell_type": "markdown",
   "id": "5b500a7d",
   "metadata": {},
   "source": [
    "![image.png](attachment:image.png)\n"
   ]
  },
  {
   "cell_type": "code",
   "execution_count": 96,
   "id": "e42a6298",
   "metadata": {
    "ExecuteTime": {
     "end_time": "2022-12-12T10:34:46.483058Z",
     "start_time": "2022-12-12T10:34:46.469096Z"
    }
   },
   "outputs": [
    {
     "data": {
      "text/plain": [
       "java         95\n",
       "python      100\n",
       "db           85\n",
       "html/css     70\n",
       "dtype: int64"
      ]
     },
     "execution_count": 96,
     "metadata": {},
     "output_type": "execute_result"
    }
   ],
   "source": [
    "stud1 = pd.Series({'java':95,'python':100,'db':85,'html/css':70})\n",
    "stud1"
   ]
  },
  {
   "cell_type": "code",
   "execution_count": 97,
   "id": "fef3847b",
   "metadata": {
    "ExecuteTime": {
     "end_time": "2022-12-12T10:34:52.300872Z",
     "start_time": "2022-12-12T10:34:52.288905Z"
    }
   },
   "outputs": [
    {
     "data": {
      "text/plain": [
       "95"
      ]
     },
     "execution_count": 97,
     "metadata": {},
     "output_type": "execute_result"
    }
   ],
   "source": [
    "# 인덱싱 --> java 데이터 접근\n",
    "stud1['java']\n",
    "stud1[0]"
   ]
  },
  {
   "cell_type": "code",
   "execution_count": 28,
   "id": "3e178f93",
   "metadata": {
    "ExecuteTime": {
     "end_time": "2022-12-12T05:29:01.668937Z",
     "start_time": "2022-12-12T05:29:01.657966Z"
    }
   },
   "outputs": [
    {
     "data": {
      "text/plain": [
       "95"
      ]
     },
     "execution_count": 28,
     "metadata": {},
     "output_type": "execute_result"
    }
   ],
   "source": [
    "#html/css 데이터 접근\n",
    "stud1['html/css']\n",
    "stud1[0]"
   ]
  },
  {
   "cell_type": "code",
   "execution_count": 29,
   "id": "f7a89329",
   "metadata": {
    "ExecuteTime": {
     "end_time": "2022-12-12T05:29:01.684894Z",
     "start_time": "2022-12-12T05:29:01.669935Z"
    }
   },
   "outputs": [
    {
     "data": {
      "text/plain": [
       "java    95\n",
       "db      85\n",
       "dtype: int64"
      ]
     },
     "execution_count": 29,
     "metadata": {},
     "output_type": "execute_result"
    }
   ],
   "source": [
    "# 여러개의 데이터를 한번에 인덱싱하기\n",
    "# java,db 데이터 접근\n",
    "stud1[0::2]\n",
    "stud1[['java','db']]\n",
    "stud1[[0,2]]"
   ]
  },
  {
   "cell_type": "code",
   "execution_count": 30,
   "id": "8f3696f8",
   "metadata": {
    "ExecuteTime": {
     "end_time": "2022-12-12T05:29:01.700851Z",
     "start_time": "2022-12-12T05:29:01.685892Z"
    }
   },
   "outputs": [
    {
     "data": {
      "text/plain": [
       "java    95\n",
       "db      85\n",
       "dtype: int64"
      ]
     },
     "execution_count": 30,
     "metadata": {},
     "output_type": "execute_result"
    }
   ],
   "source": [
    "stud1[['java','db']]"
   ]
  },
  {
   "cell_type": "code",
   "execution_count": 31,
   "id": "b19fefda",
   "metadata": {
    "ExecuteTime": {
     "end_time": "2022-12-12T05:29:01.716809Z",
     "start_time": "2022-12-12T05:29:01.701849Z"
    },
    "scrolled": true
   },
   "outputs": [
    {
     "data": {
      "text/plain": [
       "python    100\n",
       "db         85\n",
       "dtype: int64"
      ]
     },
     "execution_count": 31,
     "metadata": {},
     "output_type": "execute_result"
    }
   ],
   "source": [
    "#python부터 db 접근해보기\n",
    "stud1['python':'db'] # 문자열로 접근할 때는 뒷값이 포함\n",
    "stud1[1:3] #인덱스 번호로 접근할 때는 뒷값이 포함이 안된다."
   ]
  },
  {
   "cell_type": "code",
   "execution_count": 32,
   "id": "2571eaa5",
   "metadata": {
    "ExecuteTime": {
     "end_time": "2022-12-12T05:29:01.732766Z",
     "start_time": "2022-12-12T05:29:01.717807Z"
    }
   },
   "outputs": [
    {
     "data": {
      "text/plain": [
       "java       95\n",
       "python    100\n",
       "dtype: int64"
      ]
     },
     "metadata": {},
     "output_type": "display_data"
    },
    {
     "data": {
      "text/plain": [
       "java       95\n",
       "python    100\n",
       "dtype: int64"
      ]
     },
     "metadata": {},
     "output_type": "display_data"
    },
    {
     "data": {
      "text/plain": [
       "python      100\n",
       "db           85\n",
       "html/css     70\n",
       "dtype: int64"
      ]
     },
     "metadata": {},
     "output_type": "display_data"
    },
    {
     "data": {
      "text/plain": [
       "python      100\n",
       "db           85\n",
       "html/css     70\n",
       "dtype: int64"
      ]
     },
     "metadata": {},
     "output_type": "display_data"
    }
   ],
   "source": [
    "#print(),display --> 출력결과물 비교\n",
    "# java부터 python 까지 접근해보기\n",
    "display(stud1[0:2])\n",
    "display(stud1['java':'python'])\n",
    "display(stud1[1:])\n",
    "#python부터 끝까끼지 접근해보기\n",
    "\n",
    "display(stud1['python':])"
   ]
  },
  {
   "cell_type": "markdown",
   "id": "3f5e49d9",
   "metadata": {},
   "source": [
    "##### 시리즈 불리언 인덱싱"
   ]
  },
  {
   "cell_type": "code",
   "execution_count": 33,
   "id": "2b256e97",
   "metadata": {
    "ExecuteTime": {
     "end_time": "2022-12-12T05:29:01.747726Z",
     "start_time": "2022-12-12T05:29:01.733764Z"
    }
   },
   "outputs": [
    {
     "data": {
      "text/plain": [
       "java       95\n",
       "python    100\n",
       "db         85\n",
       "dtype: int64"
      ]
     },
     "execution_count": 33,
     "metadata": {},
     "output_type": "execute_result"
    }
   ],
   "source": [
    "#데이터 안에서 85점 이상인 과목 확인하기\n",
    "stud1[stud1 >= 85]"
   ]
  },
  {
   "cell_type": "code",
   "execution_count": 34,
   "id": "f3eaf8f3",
   "metadata": {
    "ExecuteTime": {
     "end_time": "2022-12-12T05:29:01.763683Z",
     "start_time": "2022-12-12T05:29:01.748724Z"
    }
   },
   "outputs": [
    {
     "data": {
      "text/plain": [
       "Index(['java', 'python', 'db'], dtype='object')"
      ]
     },
     "execution_count": 34,
     "metadata": {},
     "output_type": "execute_result"
    }
   ],
   "source": [
    "#85점 이상인 과목만 확인하기\n",
    "stud1[stud1 >= 85].index"
   ]
  },
  {
   "cell_type": "code",
   "execution_count": 35,
   "id": "6c678495",
   "metadata": {
    "ExecuteTime": {
     "end_time": "2022-12-12T05:29:01.779641Z",
     "start_time": "2022-12-12T05:29:01.764682Z"
    }
   },
   "outputs": [
    {
     "data": {
      "text/plain": [
       "Index(['java', 'python'], dtype='object')"
      ]
     },
     "execution_count": 35,
     "metadata": {},
     "output_type": "execute_result"
    }
   ],
   "source": [
    "# 90점 이상인 과목 접근하기\n",
    "stud1[stud1 >= 90].index"
   ]
  },
  {
   "cell_type": "code",
   "execution_count": 36,
   "id": "41040fb1",
   "metadata": {
    "ExecuteTime": {
     "end_time": "2022-12-12T05:29:01.795598Z",
     "start_time": "2022-12-12T05:29:01.780639Z"
    }
   },
   "outputs": [
    {
     "data": {
      "text/plain": [
       "Index(['db', 'html/css'], dtype='object')"
      ]
     },
     "execution_count": 36,
     "metadata": {},
     "output_type": "execute_result"
    }
   ],
   "source": [
    "#90점 미만인 과목만 접근하기\n",
    "stud1[stud1 < 90].index"
   ]
  },
  {
   "cell_type": "code",
   "execution_count": 37,
   "id": "ad79659b",
   "metadata": {
    "ExecuteTime": {
     "end_time": "2022-12-12T05:29:01.811555Z",
     "start_time": "2022-12-12T05:29:01.796596Z"
    }
   },
   "outputs": [
    {
     "data": {
      "text/plain": [
       "Index(['db'], dtype='object')"
      ]
     },
     "execution_count": 37,
     "metadata": {},
     "output_type": "execute_result"
    }
   ],
   "source": [
    "#75점 이상 90점 미만인 과목 접근하기(두 개의 조건을 연결 - 비트연산&)\n",
    "stud1[(stud1 >= 75) & (stud1 < 90)].index"
   ]
  },
  {
   "cell_type": "markdown",
   "id": "60bb280a",
   "metadata": {},
   "source": [
    "##### 2차원 데이터 프레임 데이터 접근\n"
   ]
  },
  {
   "cell_type": "code",
   "execution_count": 38,
   "id": "7b9308b5",
   "metadata": {
    "ExecuteTime": {
     "end_time": "2022-12-12T05:29:01.827514Z",
     "start_time": "2022-12-12T05:29:01.812553Z"
    }
   },
   "outputs": [],
   "source": [
    "df_stud = pd.DataFrame({'java':[95,85],'python':[100,95],'db':[85,85],'html':[70,75]},\n",
    "            index = ['hc','jh'])"
   ]
  },
  {
   "cell_type": "code",
   "execution_count": 39,
   "id": "72085914",
   "metadata": {
    "ExecuteTime": {
     "end_time": "2022-12-12T05:29:01.843471Z",
     "start_time": "2022-12-12T05:29:01.829538Z"
    }
   },
   "outputs": [
    {
     "data": {
      "text/plain": [
       "hc    85\n",
       "jh    85\n",
       "Name: db, dtype: int64"
      ]
     },
     "execution_count": 39,
     "metadata": {},
     "output_type": "execute_result"
    }
   ],
   "source": [
    "# python 성적 데이터 접근\n",
    "df_stud['python'] #1차원\n",
    "# 2차원에서 []열면 값을 입력 컬럼이라고 인식\n",
    "# 열에 대한 인덱싱을 수행\n",
    "df_stud['db'] # 1차원"
   ]
  },
  {
   "cell_type": "code",
   "execution_count": 40,
   "id": "67f21b40",
   "metadata": {
    "ExecuteTime": {
     "end_time": "2022-12-12T05:29:01.859427Z",
     "start_time": "2022-12-12T05:29:01.844468Z"
    }
   },
   "outputs": [
    {
     "data": {
      "text/html": [
       "<div>\n",
       "<style scoped>\n",
       "    .dataframe tbody tr th:only-of-type {\n",
       "        vertical-align: middle;\n",
       "    }\n",
       "\n",
       "    .dataframe tbody tr th {\n",
       "        vertical-align: top;\n",
       "    }\n",
       "\n",
       "    .dataframe thead th {\n",
       "        text-align: right;\n",
       "    }\n",
       "</style>\n",
       "<table border=\"1\" class=\"dataframe\">\n",
       "  <thead>\n",
       "    <tr style=\"text-align: right;\">\n",
       "      <th></th>\n",
       "      <th>db</th>\n",
       "    </tr>\n",
       "  </thead>\n",
       "  <tbody>\n",
       "    <tr>\n",
       "      <th>hc</th>\n",
       "      <td>85</td>\n",
       "    </tr>\n",
       "    <tr>\n",
       "      <th>jh</th>\n",
       "      <td>85</td>\n",
       "    </tr>\n",
       "  </tbody>\n",
       "</table>\n",
       "</div>"
      ],
      "text/plain": [
       "    db\n",
       "hc  85\n",
       "jh  85"
      ]
     },
     "execution_count": 40,
     "metadata": {},
     "output_type": "execute_result"
    }
   ],
   "source": [
    "df_stud[['db']]\n",
    "#데이터프레임으로 출력하고자 하면, 하나의 열이지만[[]] 표현하면 가능,\n",
    "#[[]] ==> 행과 열을 가져오므로 대괄호 2개"
   ]
  },
  {
   "cell_type": "code",
   "execution_count": 41,
   "id": "1c514835",
   "metadata": {
    "ExecuteTime": {
     "end_time": "2022-12-12T05:29:01.874388Z",
     "start_time": "2022-12-12T05:29:01.860425Z"
    }
   },
   "outputs": [
    {
     "data": {
      "text/html": [
       "<div>\n",
       "<style scoped>\n",
       "    .dataframe tbody tr th:only-of-type {\n",
       "        vertical-align: middle;\n",
       "    }\n",
       "\n",
       "    .dataframe tbody tr th {\n",
       "        vertical-align: top;\n",
       "    }\n",
       "\n",
       "    .dataframe thead th {\n",
       "        text-align: right;\n",
       "    }\n",
       "</style>\n",
       "<table border=\"1\" class=\"dataframe\">\n",
       "  <thead>\n",
       "    <tr style=\"text-align: right;\">\n",
       "      <th></th>\n",
       "      <th>java</th>\n",
       "      <th>python</th>\n",
       "    </tr>\n",
       "  </thead>\n",
       "  <tbody>\n",
       "    <tr>\n",
       "      <th>hc</th>\n",
       "      <td>95</td>\n",
       "      <td>100</td>\n",
       "    </tr>\n",
       "    <tr>\n",
       "      <th>jh</th>\n",
       "      <td>85</td>\n",
       "      <td>95</td>\n",
       "    </tr>\n",
       "  </tbody>\n",
       "</table>\n",
       "</div>"
      ],
      "text/plain": [
       "    java  python\n",
       "hc    95     100\n",
       "jh    85      95"
      ]
     },
     "execution_count": 41,
     "metadata": {},
     "output_type": "execute_result"
    }
   ],
   "source": [
    "# 여러개의 컬럼 데이터 접근\n",
    "# java, python 데이터 접근\n",
    "#[] : 행데이터, [[]]: 열데이터\n",
    "df_stud[['java','python']] # 컬럼 2개에 접근 ==> 2차원으로 반환"
   ]
  },
  {
   "cell_type": "code",
   "execution_count": 42,
   "id": "78942584",
   "metadata": {
    "ExecuteTime": {
     "end_time": "2022-12-12T05:29:01.890345Z",
     "start_time": "2022-12-12T05:29:01.876382Z"
    }
   },
   "outputs": [
    {
     "data": {
      "text/html": [
       "<div>\n",
       "<style scoped>\n",
       "    .dataframe tbody tr th:only-of-type {\n",
       "        vertical-align: middle;\n",
       "    }\n",
       "\n",
       "    .dataframe tbody tr th {\n",
       "        vertical-align: top;\n",
       "    }\n",
       "\n",
       "    .dataframe thead th {\n",
       "        text-align: right;\n",
       "    }\n",
       "</style>\n",
       "<table border=\"1\" class=\"dataframe\">\n",
       "  <thead>\n",
       "    <tr style=\"text-align: right;\">\n",
       "      <th></th>\n",
       "      <th>java</th>\n",
       "      <th>python</th>\n",
       "      <th>db</th>\n",
       "      <th>html</th>\n",
       "    </tr>\n",
       "  </thead>\n",
       "  <tbody>\n",
       "    <tr>\n",
       "      <th>hc</th>\n",
       "      <td>95</td>\n",
       "      <td>100</td>\n",
       "      <td>85</td>\n",
       "      <td>70</td>\n",
       "    </tr>\n",
       "    <tr>\n",
       "      <th>jh</th>\n",
       "      <td>85</td>\n",
       "      <td>95</td>\n",
       "      <td>85</td>\n",
       "      <td>75</td>\n",
       "    </tr>\n",
       "  </tbody>\n",
       "</table>\n",
       "</div>"
      ],
      "text/plain": [
       "    java  python  db  html\n",
       "hc    95     100  85    70\n",
       "jh    85      95  85    75"
      ]
     },
     "execution_count": 42,
     "metadata": {},
     "output_type": "execute_result"
    }
   ],
   "source": [
    "# python에서 html/css 까지 접근\n",
    "# df_stud[컬럼명]\n",
    "# df_stud[값:값] ==> 행으로 접근\n",
    "df_stud['python':'html/css']\n",
    "df_stud['hc':'jh'] # 행인덱싱"
   ]
  },
  {
   "cell_type": "markdown",
   "id": "4b965881",
   "metadata": {},
   "source": [
    "##### ★★ loc, iloc 인덱서 ★★\n",
    "- loc 인덱서\n",
    "    - 문자열 기반 데이터 접근(실제 인덕스 값을 사용하여 데이터 접근)\n",
    "    - 행접근 : df.loc[행],df.loc[시작행:끝행],df.loc[[행1,행3,행5]]\n",
    "    - 열접근 : df.loc[:,열], df.loc[:,시작열:끝열], df.loc[:,[열1,열3,열 5]]\n",
    "- iloc 인덱서\n",
    "    - numpy array에서 제공하는 인덱스번호 기반으로 데이터 접근 (눈에 보이지 않는 인덱스에도 접근)\n",
    "    - 행접근 : df.iloc[행인덱스],df.iloc[시작행인덱스,끝행인덱스],df.iloc[[행1인덱스,행3인덱스,행4인덱스]]\n",
    "    - 열접근 : df.iloc[:,열인덱스]. df.iloc[:,시작열인덱스:끝열인덱스], df.iloc[:,[열1인덱스,열3인덱스]]\n",
    "- 배열.loc[행,열], 배열.iloc[행,열]\n",
    "- loc : location 위치\n",
    "- iloc : int location 위치"
   ]
  },
  {
   "cell_type": "code",
   "execution_count": 43,
   "id": "ee0d4b4d",
   "metadata": {
    "ExecuteTime": {
     "end_time": "2022-12-12T05:29:01.906302Z",
     "start_time": "2022-12-12T05:29:01.891343Z"
    }
   },
   "outputs": [
    {
     "data": {
      "text/html": [
       "<div>\n",
       "<style scoped>\n",
       "    .dataframe tbody tr th:only-of-type {\n",
       "        vertical-align: middle;\n",
       "    }\n",
       "\n",
       "    .dataframe tbody tr th {\n",
       "        vertical-align: top;\n",
       "    }\n",
       "\n",
       "    .dataframe thead th {\n",
       "        text-align: right;\n",
       "    }\n",
       "</style>\n",
       "<table border=\"1\" class=\"dataframe\">\n",
       "  <thead>\n",
       "    <tr style=\"text-align: right;\">\n",
       "      <th></th>\n",
       "      <th>java</th>\n",
       "      <th>python</th>\n",
       "      <th>db</th>\n",
       "      <th>html</th>\n",
       "    </tr>\n",
       "  </thead>\n",
       "  <tbody>\n",
       "    <tr>\n",
       "      <th>hc</th>\n",
       "      <td>95</td>\n",
       "      <td>100</td>\n",
       "      <td>85</td>\n",
       "      <td>70</td>\n",
       "    </tr>\n",
       "    <tr>\n",
       "      <th>jh</th>\n",
       "      <td>85</td>\n",
       "      <td>95</td>\n",
       "      <td>85</td>\n",
       "      <td>75</td>\n",
       "    </tr>\n",
       "  </tbody>\n",
       "</table>\n",
       "</div>"
      ],
      "text/plain": [
       "    java  python  db  html\n",
       "hc    95     100  85    70\n",
       "jh    85      95  85    75"
      ]
     },
     "execution_count": 43,
     "metadata": {},
     "output_type": "execute_result"
    }
   ],
   "source": [
    "df_stud"
   ]
  },
  {
   "cell_type": "code",
   "execution_count": 44,
   "id": "c9e940f8",
   "metadata": {
    "ExecuteTime": {
     "end_time": "2022-12-12T05:29:01.922259Z",
     "start_time": "2022-12-12T05:29:01.908299Z"
    }
   },
   "outputs": [
    {
     "data": {
      "text/plain": [
       "hc    85\n",
       "jh    85\n",
       "Name: db, dtype: int64"
      ]
     },
     "execution_count": 44,
     "metadata": {},
     "output_type": "execute_result"
    }
   ],
   "source": [
    "# db 컬럼에 접근\n",
    "df_stud.loc[:,'db']\n",
    "# df_stud.iloc[:,'db'] #문자열을 입력하면 오류 발생, iloc --> 숫자로 접근해야함.\n",
    "df_stud.iloc[:,2]"
   ]
  },
  {
   "cell_type": "code",
   "execution_count": 45,
   "id": "9a669fb4",
   "metadata": {
    "ExecuteTime": {
     "end_time": "2022-12-12T05:29:01.938217Z",
     "start_time": "2022-12-12T05:29:01.923257Z"
    }
   },
   "outputs": [
    {
     "data": {
      "text/plain": [
       "hc    95\n",
       "jh    85\n",
       "Name: java, dtype: int64"
      ]
     },
     "execution_count": 45,
     "metadata": {},
     "output_type": "execute_result"
    }
   ],
   "source": [
    "#java 과목에 접근해보기\n",
    "#loc\n",
    "df_stud.loc[:,'java']\n",
    "#iloc\n",
    "df_stud.iloc[:,0]"
   ]
  },
  {
   "cell_type": "code",
   "execution_count": 46,
   "id": "d978948c",
   "metadata": {
    "ExecuteTime": {
     "end_time": "2022-12-12T05:29:01.954178Z",
     "start_time": "2022-12-12T05:29:01.939216Z"
    }
   },
   "outputs": [
    {
     "data": {
      "text/html": [
       "<div>\n",
       "<style scoped>\n",
       "    .dataframe tbody tr th:only-of-type {\n",
       "        vertical-align: middle;\n",
       "    }\n",
       "\n",
       "    .dataframe tbody tr th {\n",
       "        vertical-align: top;\n",
       "    }\n",
       "\n",
       "    .dataframe thead th {\n",
       "        text-align: right;\n",
       "    }\n",
       "</style>\n",
       "<table border=\"1\" class=\"dataframe\">\n",
       "  <thead>\n",
       "    <tr style=\"text-align: right;\">\n",
       "      <th></th>\n",
       "      <th>python</th>\n",
       "      <th>db</th>\n",
       "    </tr>\n",
       "  </thead>\n",
       "  <tbody>\n",
       "    <tr>\n",
       "      <th>hc</th>\n",
       "      <td>100</td>\n",
       "      <td>85</td>\n",
       "    </tr>\n",
       "    <tr>\n",
       "      <th>jh</th>\n",
       "      <td>95</td>\n",
       "      <td>85</td>\n",
       "    </tr>\n",
       "  </tbody>\n",
       "</table>\n",
       "</div>"
      ],
      "text/plain": [
       "    python  db\n",
       "hc     100  85\n",
       "jh      95  85"
      ]
     },
     "execution_count": 46,
     "metadata": {},
     "output_type": "execute_result"
    }
   ],
   "source": [
    "#python에서 db 까지 과목 성적 접근하기\n",
    "#loc\n",
    "df_stud.loc[:,'python':\"db\"]\n",
    "#iloc\n",
    "df_stud.iloc[:,[1,2]]\n",
    "#컬럼인덱싱\n",
    "df_stud[['python','db']]"
   ]
  },
  {
   "cell_type": "code",
   "execution_count": 47,
   "id": "b702bc0e",
   "metadata": {
    "ExecuteTime": {
     "end_time": "2022-12-12T05:29:01.970135Z",
     "start_time": "2022-12-12T05:29:01.955176Z"
    }
   },
   "outputs": [
    {
     "data": {
      "text/plain": [
       "java       95\n",
       "python    100\n",
       "db         85\n",
       "html       70\n",
       "Name: hc, dtype: int64"
      ]
     },
     "execution_count": 47,
     "metadata": {},
     "output_type": "execute_result"
    }
   ],
   "source": [
    "# 행 접근\n",
    "# 효창씨의 데이터 접근하기\n",
    "# loc\n",
    "df_stud.loc['hc']\n",
    "# loc\n",
    "df_stud.iloc[0]"
   ]
  },
  {
   "cell_type": "code",
   "execution_count": 48,
   "id": "542f43be",
   "metadata": {
    "ExecuteTime": {
     "end_time": "2022-12-12T05:29:01.986093Z",
     "start_time": "2022-12-12T05:29:01.971134Z"
    }
   },
   "outputs": [
    {
     "data": {
      "text/html": [
       "<div>\n",
       "<style scoped>\n",
       "    .dataframe tbody tr th:only-of-type {\n",
       "        vertical-align: middle;\n",
       "    }\n",
       "\n",
       "    .dataframe tbody tr th {\n",
       "        vertical-align: top;\n",
       "    }\n",
       "\n",
       "    .dataframe thead th {\n",
       "        text-align: right;\n",
       "    }\n",
       "</style>\n",
       "<table border=\"1\" class=\"dataframe\">\n",
       "  <thead>\n",
       "    <tr style=\"text-align: right;\">\n",
       "      <th></th>\n",
       "      <th>java</th>\n",
       "      <th>python</th>\n",
       "      <th>db</th>\n",
       "      <th>html</th>\n",
       "    </tr>\n",
       "  </thead>\n",
       "  <tbody>\n",
       "    <tr>\n",
       "      <th>jh</th>\n",
       "      <td>85</td>\n",
       "      <td>95</td>\n",
       "      <td>85</td>\n",
       "      <td>75</td>\n",
       "    </tr>\n",
       "    <tr>\n",
       "      <th>hc</th>\n",
       "      <td>95</td>\n",
       "      <td>100</td>\n",
       "      <td>85</td>\n",
       "      <td>70</td>\n",
       "    </tr>\n",
       "  </tbody>\n",
       "</table>\n",
       "</div>"
      ],
      "text/plain": [
       "    java  python  db  html\n",
       "jh    85      95  85    75\n",
       "hc    95     100  85    70"
      ]
     },
     "execution_count": 48,
     "metadata": {},
     "output_type": "execute_result"
    }
   ],
   "source": [
    "#데이터 프레임을 종현, 효창 순서로 보이게 출랙해보기\n",
    "\n",
    "# loc\n",
    "df_stud.loc[::-1]\n",
    "# df_stud.loc[['jh','hc']]\n",
    "# loc\n",
    "df_stud.iloc[::-1]"
   ]
  },
  {
   "cell_type": "markdown",
   "id": "a54f2d33",
   "metadata": {},
   "source": [
    "#####  데이터프레임 불리언 인덱싱"
   ]
  },
  {
   "cell_type": "code",
   "execution_count": 49,
   "id": "5f23eff4",
   "metadata": {
    "ExecuteTime": {
     "end_time": "2022-12-12T05:29:02.002050Z",
     "start_time": "2022-12-12T05:29:01.987090Z"
    }
   },
   "outputs": [
    {
     "data": {
      "text/html": [
       "<div>\n",
       "<style scoped>\n",
       "    .dataframe tbody tr th:only-of-type {\n",
       "        vertical-align: middle;\n",
       "    }\n",
       "\n",
       "    .dataframe tbody tr th {\n",
       "        vertical-align: top;\n",
       "    }\n",
       "\n",
       "    .dataframe thead th {\n",
       "        text-align: right;\n",
       "    }\n",
       "</style>\n",
       "<table border=\"1\" class=\"dataframe\">\n",
       "  <thead>\n",
       "    <tr style=\"text-align: right;\">\n",
       "      <th></th>\n",
       "      <th>java</th>\n",
       "      <th>python</th>\n",
       "      <th>db</th>\n",
       "      <th>html</th>\n",
       "    </tr>\n",
       "  </thead>\n",
       "  <tbody>\n",
       "    <tr>\n",
       "      <th>hc</th>\n",
       "      <td>95</td>\n",
       "      <td>100</td>\n",
       "      <td>85</td>\n",
       "      <td>70</td>\n",
       "    </tr>\n",
       "    <tr>\n",
       "      <th>jh</th>\n",
       "      <td>85</td>\n",
       "      <td>95</td>\n",
       "      <td>85</td>\n",
       "      <td>75</td>\n",
       "    </tr>\n",
       "  </tbody>\n",
       "</table>\n",
       "</div>"
      ],
      "text/plain": [
       "    java  python  db  html\n",
       "hc    95     100  85    70\n",
       "jh    85      95  85    75"
      ]
     },
     "execution_count": 49,
     "metadata": {},
     "output_type": "execute_result"
    }
   ],
   "source": [
    "df_stud"
   ]
  },
  {
   "cell_type": "code",
   "execution_count": 50,
   "id": "1778e288",
   "metadata": {
    "ExecuteTime": {
     "end_time": "2022-12-12T05:29:02.018008Z",
     "start_time": "2022-12-12T05:29:02.003048Z"
    }
   },
   "outputs": [
    {
     "data": {
      "text/plain": [
       "(2, 4)"
      ]
     },
     "execution_count": 50,
     "metadata": {},
     "output_type": "execute_result"
    }
   ],
   "source": [
    "#'python'dml 성적이 95점 이상인 사람의 수 몇 명일까?\n",
    "df_stud[df_stud['python'] >= 95].shape #행의 갯수 - 배열의 크기로 확인"
   ]
  },
  {
   "cell_type": "code",
   "execution_count": 51,
   "id": "5d61e574",
   "metadata": {
    "ExecuteTime": {
     "end_time": "2022-12-12T05:29:02.033965Z",
     "start_time": "2022-12-12T05:29:02.019005Z"
    }
   },
   "outputs": [
    {
     "data": {
      "text/plain": [
       "2"
      ]
     },
     "execution_count": 51,
     "metadata": {},
     "output_type": "execute_result"
    }
   ],
   "source": [
    "len(df_stud[df_stud['python'] >= 95].index) # 인덱스로 접근해서 길이함수 이용"
   ]
  },
  {
   "cell_type": "code",
   "execution_count": 52,
   "id": "73f68c41",
   "metadata": {
    "ExecuteTime": {
     "end_time": "2022-12-12T05:29:02.048928Z",
     "start_time": "2022-12-12T05:29:02.034963Z"
    }
   },
   "outputs": [
    {
     "data": {
      "text/plain": [
       "2"
      ]
     },
     "execution_count": 52,
     "metadata": {},
     "output_type": "execute_result"
    }
   ],
   "source": [
    "df_stud[df_stud['python'] >= 95].index.size # 인덱스의 요소갯수로 확인"
   ]
  },
  {
   "cell_type": "code",
   "execution_count": 53,
   "id": "154f680f",
   "metadata": {
    "ExecuteTime": {
     "end_time": "2022-12-12T05:29:02.064885Z",
     "start_time": "2022-12-12T05:29:02.049926Z"
    }
   },
   "outputs": [
    {
     "data": {
      "text/plain": [
       "hc    100\n",
       "jh     95\n",
       "Name: python, dtype: int64"
      ]
     },
     "execution_count": 53,
     "metadata": {},
     "output_type": "execute_result"
    }
   ],
   "source": [
    "df_stud.loc[:, 'python']"
   ]
  },
  {
   "cell_type": "code",
   "execution_count": 54,
   "id": "760327a3",
   "metadata": {
    "ExecuteTime": {
     "end_time": "2022-12-12T05:29:02.079844Z",
     "start_time": "2022-12-12T05:29:02.065882Z"
    }
   },
   "outputs": [
    {
     "data": {
      "text/plain": [
       "hc    100\n",
       "jh     95\n",
       "Name: python, dtype: int64"
      ]
     },
     "execution_count": 54,
     "metadata": {},
     "output_type": "execute_result"
    }
   ],
   "source": [
    "df_stud.iloc[:, 1]"
   ]
  },
  {
   "cell_type": "code",
   "execution_count": 100,
   "id": "db1ecae2",
   "metadata": {
    "ExecuteTime": {
     "end_time": "2022-12-12T10:54:23.412617Z",
     "start_time": "2022-12-12T10:54:23.393667Z"
    }
   },
   "outputs": [
    {
     "data": {
      "text/html": [
       "<div>\n",
       "<style scoped>\n",
       "    .dataframe tbody tr th:only-of-type {\n",
       "        vertical-align: middle;\n",
       "    }\n",
       "\n",
       "    .dataframe tbody tr th {\n",
       "        vertical-align: top;\n",
       "    }\n",
       "\n",
       "    .dataframe thead th {\n",
       "        text-align: right;\n",
       "    }\n",
       "</style>\n",
       "<table border=\"1\" class=\"dataframe\">\n",
       "  <thead>\n",
       "    <tr style=\"text-align: right;\">\n",
       "      <th></th>\n",
       "      <th>java</th>\n",
       "      <th>python</th>\n",
       "      <th>db</th>\n",
       "      <th>html</th>\n",
       "    </tr>\n",
       "  </thead>\n",
       "  <tbody>\n",
       "    <tr>\n",
       "      <th>hc</th>\n",
       "      <td>95</td>\n",
       "      <td>100</td>\n",
       "      <td>85</td>\n",
       "      <td>70</td>\n",
       "    </tr>\n",
       "    <tr>\n",
       "      <th>jh</th>\n",
       "      <td>85</td>\n",
       "      <td>95</td>\n",
       "      <td>85</td>\n",
       "      <td>75</td>\n",
       "    </tr>\n",
       "  </tbody>\n",
       "</table>\n",
       "</div>"
      ],
      "text/plain": [
       "    java  python  db  html\n",
       "hc    95     100  85    70\n",
       "jh    85      95  85    75"
      ]
     },
     "execution_count": 100,
     "metadata": {},
     "output_type": "execute_result"
    }
   ],
   "source": [
    "# java 85점 이상인 사람의 'Html/css' 점수 출력해보기\n",
    "# 1. 'java' >= 85\n",
    "df_stud['java']>=85\n",
    "# len(df_stud[df_stud.loc[:, 'python'] >= 85].index)\n",
    "# 2. 'html/css' 점수 접근\n",
    "# df_stud.loc[:,'html']\n",
    "\n",
    "df_stud[df_stud.loc[:,'java']>=85]['html']\n",
    "df_stud[df_stud.loc[:,'java']>=85].loc[:, 'html']\n",
    "df_stud[df_stud.loc[:,'java']>=85].iloc[:,-1]\n",
    "# df_stud.iloc[df_stud.loc[:,'java']>=85][:,3] 에러 발생\n",
    "df_stud.loc[df_stud.loc[:,'java']>=85,'html']\n",
    "#불라온 안댁상운 loc 인덱서만 사용할 수 있다.\n"
   ]
  },
  {
   "cell_type": "markdown",
   "id": "86bccb04",
   "metadata": {},
   "source": [
    "#### 시리즈간 연산"
   ]
  },
  {
   "cell_type": "code",
   "execution_count": 56,
   "id": "2334c81d",
   "metadata": {
    "ExecuteTime": {
     "end_time": "2022-12-12T05:29:02.111759Z",
     "start_time": "2022-12-12T05:29:02.096800Z"
    }
   },
   "outputs": [
    {
     "data": {
      "text/plain": [
       "도시\n",
       "서울    9602000\n",
       "부산    3344000\n",
       "광주    1488000\n",
       "데구    2419000\n",
       "전주     140000\n",
       "인천    2951000\n",
       "Name: 2020 인구, dtype: int64"
      ]
     },
     "execution_count": 56,
     "metadata": {},
     "output_type": "execute_result"
    }
   ],
   "source": [
    "population"
   ]
  },
  {
   "cell_type": "code",
   "execution_count": 57,
   "id": "db8f477f",
   "metadata": {
    "ExecuteTime": {
     "end_time": "2022-12-12T05:29:02.126719Z",
     "start_time": "2022-12-12T05:29:02.112758Z"
    }
   },
   "outputs": [
    {
     "data": {
      "text/plain": [
       "지역\n",
       "서울      505.2\n",
       "부산      770.1\n",
       "광주      501.1\n",
       "대구      883.5\n",
       "전주      883.5\n",
       "인천     1065.2\n",
       "Name: 면적㎞, dtype: float64"
      ]
     },
     "execution_count": 57,
     "metadata": {},
     "output_type": "execute_result"
    }
   ],
   "source": [
    "area"
   ]
  },
  {
   "cell_type": "code",
   "execution_count": 101,
   "id": "5139ff13",
   "metadata": {
    "ExecuteTime": {
     "end_time": "2022-12-12T10:54:47.270194Z",
     "start_time": "2022-12-12T10:54:47.256261Z"
    }
   },
   "outputs": [
    {
     "data": {
      "text/plain": [
       "광주     7.456368e+08\n",
       "대구              NaN\n",
       "데구              NaN\n",
       "부산     2.575214e+09\n",
       "서울     4.850930e+09\n",
       "인천              NaN\n",
       "인천              NaN\n",
       "전주              NaN\n",
       "전주              NaN\n",
       "dtype: float64"
      ]
     },
     "execution_count": 101,
     "metadata": {},
     "output_type": "execute_result"
    }
   ],
   "source": [
    "#연산 수행하기\n",
    "population + area\n",
    "population - area\n",
    "population * area"
   ]
  },
  {
   "cell_type": "code",
   "execution_count": 59,
   "id": "138d1c2b",
   "metadata": {
    "ExecuteTime": {
     "end_time": "2022-12-12T05:29:02.158663Z",
     "start_time": "2022-12-12T05:29:02.143674Z"
    }
   },
   "outputs": [
    {
     "data": {
      "text/html": [
       "<div>\n",
       "<style scoped>\n",
       "    .dataframe tbody tr th:only-of-type {\n",
       "        vertical-align: middle;\n",
       "    }\n",
       "\n",
       "    .dataframe tbody tr th {\n",
       "        vertical-align: top;\n",
       "    }\n",
       "\n",
       "    .dataframe thead th {\n",
       "        text-align: right;\n",
       "    }\n",
       "</style>\n",
       "<table border=\"1\" class=\"dataframe\">\n",
       "  <thead>\n",
       "    <tr style=\"text-align: right;\">\n",
       "      <th></th>\n",
       "      <th>2020 인구</th>\n",
       "      <th>면적㎞</th>\n",
       "    </tr>\n",
       "  </thead>\n",
       "  <tbody>\n",
       "    <tr>\n",
       "      <th>서울</th>\n",
       "      <td>9602000.0</td>\n",
       "      <td>505.2</td>\n",
       "    </tr>\n",
       "    <tr>\n",
       "      <th>부산</th>\n",
       "      <td>3344000.0</td>\n",
       "      <td>770.1</td>\n",
       "    </tr>\n",
       "    <tr>\n",
       "      <th>광주</th>\n",
       "      <td>1488000.0</td>\n",
       "      <td>501.1</td>\n",
       "    </tr>\n",
       "    <tr>\n",
       "      <th>데구</th>\n",
       "      <td>2419000.0</td>\n",
       "      <td>NaN</td>\n",
       "    </tr>\n",
       "    <tr>\n",
       "      <th>전주</th>\n",
       "      <td>140000.0</td>\n",
       "      <td>NaN</td>\n",
       "    </tr>\n",
       "    <tr>\n",
       "      <th>인천</th>\n",
       "      <td>2951000.0</td>\n",
       "      <td>NaN</td>\n",
       "    </tr>\n",
       "    <tr>\n",
       "      <th>대구</th>\n",
       "      <td>NaN</td>\n",
       "      <td>883.5</td>\n",
       "    </tr>\n",
       "    <tr>\n",
       "      <th>전주</th>\n",
       "      <td>NaN</td>\n",
       "      <td>883.5</td>\n",
       "    </tr>\n",
       "    <tr>\n",
       "      <th>인천</th>\n",
       "      <td>NaN</td>\n",
       "      <td>1065.2</td>\n",
       "    </tr>\n",
       "  </tbody>\n",
       "</table>\n",
       "</div>"
      ],
      "text/plain": [
       "       2020 인구     면적㎞\n",
       "서울   9602000.0   505.2\n",
       "부산   3344000.0   770.1\n",
       "광주   1488000.0   501.1\n",
       "데구   2419000.0     NaN\n",
       "전주    140000.0     NaN\n",
       "인천   2951000.0     NaN\n",
       "대구         NaN   883.5\n",
       "전주         NaN   883.5\n",
       "인천         NaN  1065.2"
      ]
     },
     "execution_count": 59,
     "metadata": {},
     "output_type": "execute_result"
    }
   ],
   "source": [
    "df2"
   ]
  },
  {
   "cell_type": "code",
   "execution_count": 60,
   "id": "04c3f64c",
   "metadata": {
    "ExecuteTime": {
     "end_time": "2022-12-12T05:29:02.174591Z",
     "start_time": "2022-12-12T05:29:02.159632Z"
    }
   },
   "outputs": [
    {
     "data": {
      "text/html": [
       "<div>\n",
       "<style scoped>\n",
       "    .dataframe tbody tr th:only-of-type {\n",
       "        vertical-align: middle;\n",
       "    }\n",
       "\n",
       "    .dataframe tbody tr th {\n",
       "        vertical-align: top;\n",
       "    }\n",
       "\n",
       "    .dataframe thead th {\n",
       "        text-align: right;\n",
       "    }\n",
       "</style>\n",
       "<table border=\"1\" class=\"dataframe\">\n",
       "  <thead>\n",
       "    <tr style=\"text-align: right;\">\n",
       "      <th></th>\n",
       "      <th>2020 인구</th>\n",
       "      <th>면적㎞</th>\n",
       "      <th>인구밀도</th>\n",
       "    </tr>\n",
       "  </thead>\n",
       "  <tbody>\n",
       "    <tr>\n",
       "      <th>서울</th>\n",
       "      <td>9602000.0</td>\n",
       "      <td>505.2</td>\n",
       "      <td>19006.3</td>\n",
       "    </tr>\n",
       "    <tr>\n",
       "      <th>부산</th>\n",
       "      <td>3344000.0</td>\n",
       "      <td>770.1</td>\n",
       "      <td>4342.3</td>\n",
       "    </tr>\n",
       "    <tr>\n",
       "      <th>광주</th>\n",
       "      <td>1488000.0</td>\n",
       "      <td>501.1</td>\n",
       "      <td>2969.5</td>\n",
       "    </tr>\n",
       "    <tr>\n",
       "      <th>데구</th>\n",
       "      <td>2419000.0</td>\n",
       "      <td>NaN</td>\n",
       "      <td>NaN</td>\n",
       "    </tr>\n",
       "    <tr>\n",
       "      <th>전주</th>\n",
       "      <td>140000.0</td>\n",
       "      <td>NaN</td>\n",
       "      <td>NaN</td>\n",
       "    </tr>\n",
       "    <tr>\n",
       "      <th>인천</th>\n",
       "      <td>2951000.0</td>\n",
       "      <td>NaN</td>\n",
       "      <td>NaN</td>\n",
       "    </tr>\n",
       "    <tr>\n",
       "      <th>대구</th>\n",
       "      <td>NaN</td>\n",
       "      <td>883.5</td>\n",
       "      <td>NaN</td>\n",
       "    </tr>\n",
       "    <tr>\n",
       "      <th>전주</th>\n",
       "      <td>NaN</td>\n",
       "      <td>883.5</td>\n",
       "      <td>NaN</td>\n",
       "    </tr>\n",
       "    <tr>\n",
       "      <th>인천</th>\n",
       "      <td>NaN</td>\n",
       "      <td>1065.2</td>\n",
       "      <td>NaN</td>\n",
       "    </tr>\n",
       "  </tbody>\n",
       "</table>\n",
       "</div>"
      ],
      "text/plain": [
       "       2020 인구     면적㎞     인구밀도\n",
       "서울   9602000.0   505.2  19006.3\n",
       "부산   3344000.0   770.1   4342.3\n",
       "광주   1488000.0   501.1   2969.5\n",
       "데구   2419000.0     NaN      NaN\n",
       "전주    140000.0     NaN      NaN\n",
       "인천   2951000.0     NaN      NaN\n",
       "대구         NaN   883.5      NaN\n",
       "전주         NaN   883.5      NaN\n",
       "인천         NaN  1065.2      NaN"
      ]
     },
     "execution_count": 60,
     "metadata": {},
     "output_type": "execute_result"
    }
   ],
   "source": [
    "# 인구밀도 = 인구수 /면적\n",
    "population/area\n",
    "# df2 데이터 프레임에 컬럼 추가하기\n",
    "df2[\"인구밀도\"] = population/area\n",
    "df2.round(1)"
   ]
  },
  {
   "cell_type": "markdown",
   "id": "8d11221a",
   "metadata": {},
   "source": [
    "#### 유용한 함수"
   ]
  },
  {
   "cell_type": "markdown",
   "id": "94b61f0b",
   "metadata": {
    "ExecuteTime": {
     "end_time": "2022-12-09T06:22:22.732898Z",
     "start_time": "2022-12-09T06:22:22.715414Z"
    }
   },
   "source": [
    "##### 데이터 정렬 하수\n",
    "- sort_value : 데이터 값을 기준으로 정렬(기본값 : 오름차순)\n",
    "- sort_index : 인덱스 값을 기준으로 정렬"
   ]
  },
  {
   "cell_type": "code",
   "execution_count": 61,
   "id": "53633e81",
   "metadata": {
    "ExecuteTime": {
     "end_time": "2022-12-12T05:29:02.190548Z",
     "start_time": "2022-12-12T05:29:02.175588Z"
    }
   },
   "outputs": [
    {
     "data": {
      "text/plain": [
       "서울     19006.334125\n",
       "부산      4342.293209\n",
       "광주      2969.467172\n",
       "데구              NaN\n",
       "전주              NaN\n",
       "인천              NaN\n",
       "대구              NaN\n",
       "전주              NaN\n",
       "인천              NaN\n",
       "Name: 인구밀도, dtype: float64"
      ]
     },
     "execution_count": 61,
     "metadata": {},
     "output_type": "execute_result"
    }
   ],
   "source": [
    "# sort_values(ascending =True)기본값은 오름차순\n",
    "# 내림차순으로 정렬 : ascending =False\n",
    "df2['인구밀도'].sort_values(ascending=False)"
   ]
  },
  {
   "cell_type": "code",
   "execution_count": 62,
   "id": "cbdcd19d",
   "metadata": {
    "ExecuteTime": {
     "end_time": "2022-12-12T05:29:02.206506Z",
     "start_time": "2022-12-12T05:29:02.192544Z"
    }
   },
   "outputs": [
    {
     "data": {
      "text/plain": [
       "Index(['서울', '부산', '광주', '데구', '전주', '인천', '대구', '전주 ', '인천 '], dtype='object')"
      ]
     },
     "execution_count": 62,
     "metadata": {},
     "output_type": "execute_result"
    }
   ],
   "source": [
    "# 인덱스 정렬\n",
    "df2['인구밀도'].sort_index()\n",
    "# 데이터의 컬럼명을 확인하는 키워드\n",
    "df2.columns\n",
    "df2.index"
   ]
  },
  {
   "cell_type": "code",
   "execution_count": 63,
   "id": "4757b181",
   "metadata": {
    "ExecuteTime": {
     "end_time": "2022-12-12T05:29:02.221466Z",
     "start_time": "2022-12-12T05:29:02.207504Z"
    }
   },
   "outputs": [
    {
     "data": {
      "text/html": [
       "<div>\n",
       "<style scoped>\n",
       "    .dataframe tbody tr th:only-of-type {\n",
       "        vertical-align: middle;\n",
       "    }\n",
       "\n",
       "    .dataframe tbody tr th {\n",
       "        vertical-align: top;\n",
       "    }\n",
       "\n",
       "    .dataframe thead th {\n",
       "        text-align: right;\n",
       "    }\n",
       "</style>\n",
       "<table border=\"1\" class=\"dataframe\">\n",
       "  <thead>\n",
       "    <tr style=\"text-align: right;\">\n",
       "      <th></th>\n",
       "      <th>2020 인구</th>\n",
       "      <th>면적㎞</th>\n",
       "      <th>인구밀도</th>\n",
       "    </tr>\n",
       "  </thead>\n",
       "  <tbody>\n",
       "    <tr>\n",
       "      <th>광주</th>\n",
       "      <td>1488000.0</td>\n",
       "      <td>501.1</td>\n",
       "      <td>2969.467172</td>\n",
       "    </tr>\n",
       "    <tr>\n",
       "      <th>서울</th>\n",
       "      <td>9602000.0</td>\n",
       "      <td>505.2</td>\n",
       "      <td>19006.334125</td>\n",
       "    </tr>\n",
       "    <tr>\n",
       "      <th>부산</th>\n",
       "      <td>3344000.0</td>\n",
       "      <td>770.1</td>\n",
       "      <td>4342.293209</td>\n",
       "    </tr>\n",
       "    <tr>\n",
       "      <th>대구</th>\n",
       "      <td>NaN</td>\n",
       "      <td>883.5</td>\n",
       "      <td>NaN</td>\n",
       "    </tr>\n",
       "    <tr>\n",
       "      <th>전주</th>\n",
       "      <td>NaN</td>\n",
       "      <td>883.5</td>\n",
       "      <td>NaN</td>\n",
       "    </tr>\n",
       "    <tr>\n",
       "      <th>인천</th>\n",
       "      <td>NaN</td>\n",
       "      <td>1065.2</td>\n",
       "      <td>NaN</td>\n",
       "    </tr>\n",
       "    <tr>\n",
       "      <th>전주</th>\n",
       "      <td>140000.0</td>\n",
       "      <td>NaN</td>\n",
       "      <td>NaN</td>\n",
       "    </tr>\n",
       "    <tr>\n",
       "      <th>데구</th>\n",
       "      <td>2419000.0</td>\n",
       "      <td>NaN</td>\n",
       "      <td>NaN</td>\n",
       "    </tr>\n",
       "    <tr>\n",
       "      <th>인천</th>\n",
       "      <td>2951000.0</td>\n",
       "      <td>NaN</td>\n",
       "      <td>NaN</td>\n",
       "    </tr>\n",
       "  </tbody>\n",
       "</table>\n",
       "</div>"
      ],
      "text/plain": [
       "       2020 인구     면적㎞          인구밀도\n",
       "광주   1488000.0   501.1   2969.467172\n",
       "서울   9602000.0   505.2  19006.334125\n",
       "부산   3344000.0   770.1   4342.293209\n",
       "대구         NaN   883.5           NaN\n",
       "전주         NaN   883.5           NaN\n",
       "인천         NaN  1065.2           NaN\n",
       "전주    140000.0     NaN           NaN\n",
       "데구   2419000.0     NaN           NaN\n",
       "인천   2951000.0     NaN           NaN"
      ]
     },
     "execution_count": 63,
     "metadata": {},
     "output_type": "execute_result"
    }
   ],
   "source": [
    "# 2차원 데이터 value 정렬\n",
    "df2.sort_values(by = ['면적㎞','2020 인구'])"
   ]
  },
  {
   "cell_type": "markdown",
   "id": "e8e14590",
   "metadata": {},
   "source": [
    "##### 카운팅 하는 함수\n"
   ]
  },
  {
   "cell_type": "code",
   "execution_count": 64,
   "id": "b72baaff",
   "metadata": {
    "ExecuteTime": {
     "end_time": "2022-12-12T05:29:02.237423Z",
     "start_time": "2022-12-12T05:29:02.222464Z"
    }
   },
   "outputs": [
    {
     "data": {
      "text/plain": [
       "883.5     2\n",
       "505.2     1\n",
       "770.1     1\n",
       "501.1     1\n",
       "1065.2    1\n",
       "Name: 면적㎞, dtype: int64"
      ]
     },
     "execution_count": 64,
     "metadata": {},
     "output_type": "execute_result"
    }
   ],
   "source": [
    "df2['면적㎞'].value_counts()"
   ]
  },
  {
   "cell_type": "code",
   "execution_count": 65,
   "id": "fe23d300",
   "metadata": {
    "ExecuteTime": {
     "end_time": "2022-12-12T05:29:02.252386Z",
     "start_time": "2022-12-12T05:29:02.238420Z"
    }
   },
   "outputs": [
    {
     "data": {
      "text/plain": [
       "array([2, 1, 1, 1, 1], dtype=int64)"
      ]
     },
     "execution_count": 65,
     "metadata": {},
     "output_type": "execute_result"
    }
   ],
   "source": [
    "df2['면적㎞'].value_counts().values"
   ]
  },
  {
   "cell_type": "markdown",
   "id": "f2d3039d",
   "metadata": {},
   "source": [
    "##### 데이터 삭제하는 함수"
   ]
  },
  {
   "cell_type": "code",
   "execution_count": 102,
   "id": "5577547f",
   "metadata": {
    "ExecuteTime": {
     "end_time": "2022-12-12T10:58:21.540432Z",
     "start_time": "2022-12-12T10:58:21.526501Z"
    },
    "scrolled": true
   },
   "outputs": [
    {
     "ename": "KeyError",
     "evalue": "\"['인구밀도'] not found in axis\"",
     "output_type": "error",
     "traceback": [
      "\u001b[1;31m-----------------------------------------------------\u001b[0m",
      "\u001b[1;31mKeyError\u001b[0m            Traceback (most recent call last)",
      "\u001b[1;32m~\\AppData\\Local\\Temp\\ipykernel_13640\\1359185690.py\u001b[0m in \u001b[0;36m<module>\u001b[1;34m\u001b[0m\n\u001b[1;32m----> 1\u001b[1;33m \u001b[0mdf2\u001b[0m\u001b[1;33m.\u001b[0m\u001b[0mdrop\u001b[0m\u001b[1;33m(\u001b[0m\u001b[1;34m'인구밀도'\u001b[0m\u001b[1;33m)\u001b[0m\u001b[1;33m\u001b[0m\u001b[1;33m\u001b[0m\u001b[0m\n\u001b[0m",
      "\u001b[1;32m~\\anaconda3\\lib\\site-packages\\pandas\\util\\_decorators.py\u001b[0m in \u001b[0;36mwrapper\u001b[1;34m(*args, **kwargs)\u001b[0m\n\u001b[0;32m    309\u001b[0m                     \u001b[0mstacklevel\u001b[0m\u001b[1;33m=\u001b[0m\u001b[0mstacklevel\u001b[0m\u001b[1;33m,\u001b[0m\u001b[1;33m\u001b[0m\u001b[1;33m\u001b[0m\u001b[0m\n\u001b[0;32m    310\u001b[0m                 )\n\u001b[1;32m--> 311\u001b[1;33m             \u001b[1;32mreturn\u001b[0m \u001b[0mfunc\u001b[0m\u001b[1;33m(\u001b[0m\u001b[1;33m*\u001b[0m\u001b[0margs\u001b[0m\u001b[1;33m,\u001b[0m \u001b[1;33m**\u001b[0m\u001b[0mkwargs\u001b[0m\u001b[1;33m)\u001b[0m\u001b[1;33m\u001b[0m\u001b[1;33m\u001b[0m\u001b[0m\n\u001b[0m\u001b[0;32m    312\u001b[0m \u001b[1;33m\u001b[0m\u001b[0m\n\u001b[0;32m    313\u001b[0m         \u001b[1;32mreturn\u001b[0m \u001b[0mwrapper\u001b[0m\u001b[1;33m\u001b[0m\u001b[1;33m\u001b[0m\u001b[0m\n",
      "\u001b[1;32m~\\anaconda3\\lib\\site-packages\\pandas\\core\\frame.py\u001b[0m in \u001b[0;36mdrop\u001b[1;34m(self, labels, axis, index, columns, level, inplace, errors)\u001b[0m\n\u001b[0;32m   4955\u001b[0m                 \u001b[0mweight\u001b[0m  \u001b[1;36m1.0\u001b[0m     \u001b[1;36m0.8\u001b[0m\u001b[1;33m\u001b[0m\u001b[1;33m\u001b[0m\u001b[0m\n\u001b[0;32m   4956\u001b[0m         \"\"\"\n\u001b[1;32m-> 4957\u001b[1;33m         return super().drop(\n\u001b[0m\u001b[0;32m   4958\u001b[0m             \u001b[0mlabels\u001b[0m\u001b[1;33m=\u001b[0m\u001b[0mlabels\u001b[0m\u001b[1;33m,\u001b[0m\u001b[1;33m\u001b[0m\u001b[1;33m\u001b[0m\u001b[0m\n\u001b[0;32m   4959\u001b[0m             \u001b[0maxis\u001b[0m\u001b[1;33m=\u001b[0m\u001b[0maxis\u001b[0m\u001b[1;33m,\u001b[0m\u001b[1;33m\u001b[0m\u001b[1;33m\u001b[0m\u001b[0m\n",
      "\u001b[1;32m~\\anaconda3\\lib\\site-packages\\pandas\\core\\generic.py\u001b[0m in \u001b[0;36mdrop\u001b[1;34m(self, labels, axis, index, columns, level, inplace, errors)\u001b[0m\n\u001b[0;32m   4265\u001b[0m         \u001b[1;32mfor\u001b[0m \u001b[0maxis\u001b[0m\u001b[1;33m,\u001b[0m \u001b[0mlabels\u001b[0m \u001b[1;32min\u001b[0m \u001b[0maxes\u001b[0m\u001b[1;33m.\u001b[0m\u001b[0mitems\u001b[0m\u001b[1;33m(\u001b[0m\u001b[1;33m)\u001b[0m\u001b[1;33m:\u001b[0m\u001b[1;33m\u001b[0m\u001b[1;33m\u001b[0m\u001b[0m\n\u001b[0;32m   4266\u001b[0m             \u001b[1;32mif\u001b[0m \u001b[0mlabels\u001b[0m \u001b[1;32mis\u001b[0m \u001b[1;32mnot\u001b[0m \u001b[1;32mNone\u001b[0m\u001b[1;33m:\u001b[0m\u001b[1;33m\u001b[0m\u001b[1;33m\u001b[0m\u001b[0m\n\u001b[1;32m-> 4267\u001b[1;33m                 \u001b[0mobj\u001b[0m \u001b[1;33m=\u001b[0m \u001b[0mobj\u001b[0m\u001b[1;33m.\u001b[0m\u001b[0m_drop_axis\u001b[0m\u001b[1;33m(\u001b[0m\u001b[0mlabels\u001b[0m\u001b[1;33m,\u001b[0m \u001b[0maxis\u001b[0m\u001b[1;33m,\u001b[0m \u001b[0mlevel\u001b[0m\u001b[1;33m=\u001b[0m\u001b[0mlevel\u001b[0m\u001b[1;33m,\u001b[0m \u001b[0merrors\u001b[0m\u001b[1;33m=\u001b[0m\u001b[0merrors\u001b[0m\u001b[1;33m)\u001b[0m\u001b[1;33m\u001b[0m\u001b[1;33m\u001b[0m\u001b[0m\n\u001b[0m\u001b[0;32m   4268\u001b[0m \u001b[1;33m\u001b[0m\u001b[0m\n\u001b[0;32m   4269\u001b[0m         \u001b[1;32mif\u001b[0m \u001b[0minplace\u001b[0m\u001b[1;33m:\u001b[0m\u001b[1;33m\u001b[0m\u001b[1;33m\u001b[0m\u001b[0m\n",
      "\u001b[1;32m~\\anaconda3\\lib\\site-packages\\pandas\\core\\generic.py\u001b[0m in \u001b[0;36m_drop_axis\u001b[1;34m(self, labels, axis, level, errors, consolidate, only_slice)\u001b[0m\n\u001b[0;32m   4309\u001b[0m                 \u001b[0mnew_axis\u001b[0m \u001b[1;33m=\u001b[0m \u001b[0maxis\u001b[0m\u001b[1;33m.\u001b[0m\u001b[0mdrop\u001b[0m\u001b[1;33m(\u001b[0m\u001b[0mlabels\u001b[0m\u001b[1;33m,\u001b[0m \u001b[0mlevel\u001b[0m\u001b[1;33m=\u001b[0m\u001b[0mlevel\u001b[0m\u001b[1;33m,\u001b[0m \u001b[0merrors\u001b[0m\u001b[1;33m=\u001b[0m\u001b[0merrors\u001b[0m\u001b[1;33m)\u001b[0m\u001b[1;33m\u001b[0m\u001b[1;33m\u001b[0m\u001b[0m\n\u001b[0;32m   4310\u001b[0m             \u001b[1;32melse\u001b[0m\u001b[1;33m:\u001b[0m\u001b[1;33m\u001b[0m\u001b[1;33m\u001b[0m\u001b[0m\n\u001b[1;32m-> 4311\u001b[1;33m                 \u001b[0mnew_axis\u001b[0m \u001b[1;33m=\u001b[0m \u001b[0maxis\u001b[0m\u001b[1;33m.\u001b[0m\u001b[0mdrop\u001b[0m\u001b[1;33m(\u001b[0m\u001b[0mlabels\u001b[0m\u001b[1;33m,\u001b[0m \u001b[0merrors\u001b[0m\u001b[1;33m=\u001b[0m\u001b[0merrors\u001b[0m\u001b[1;33m)\u001b[0m\u001b[1;33m\u001b[0m\u001b[1;33m\u001b[0m\u001b[0m\n\u001b[0m\u001b[0;32m   4312\u001b[0m             \u001b[0mindexer\u001b[0m \u001b[1;33m=\u001b[0m \u001b[0maxis\u001b[0m\u001b[1;33m.\u001b[0m\u001b[0mget_indexer\u001b[0m\u001b[1;33m(\u001b[0m\u001b[0mnew_axis\u001b[0m\u001b[1;33m)\u001b[0m\u001b[1;33m\u001b[0m\u001b[1;33m\u001b[0m\u001b[0m\n\u001b[0;32m   4313\u001b[0m \u001b[1;33m\u001b[0m\u001b[0m\n",
      "\u001b[1;32m~\\anaconda3\\lib\\site-packages\\pandas\\core\\indexes\\base.py\u001b[0m in \u001b[0;36mdrop\u001b[1;34m(self, labels, errors)\u001b[0m\n\u001b[0;32m   6659\u001b[0m         \u001b[1;32mif\u001b[0m \u001b[0mmask\u001b[0m\u001b[1;33m.\u001b[0m\u001b[0many\u001b[0m\u001b[1;33m(\u001b[0m\u001b[1;33m)\u001b[0m\u001b[1;33m:\u001b[0m\u001b[1;33m\u001b[0m\u001b[1;33m\u001b[0m\u001b[0m\n\u001b[0;32m   6660\u001b[0m             \u001b[1;32mif\u001b[0m \u001b[0merrors\u001b[0m \u001b[1;33m!=\u001b[0m \u001b[1;34m\"ignore\"\u001b[0m\u001b[1;33m:\u001b[0m\u001b[1;33m\u001b[0m\u001b[1;33m\u001b[0m\u001b[0m\n\u001b[1;32m-> 6661\u001b[1;33m                 \u001b[1;32mraise\u001b[0m \u001b[0mKeyError\u001b[0m\u001b[1;33m(\u001b[0m\u001b[1;34mf\"{list(labels[mask])} not found in axis\"\u001b[0m\u001b[1;33m)\u001b[0m\u001b[1;33m\u001b[0m\u001b[1;33m\u001b[0m\u001b[0m\n\u001b[0m\u001b[0;32m   6662\u001b[0m             \u001b[0mindexer\u001b[0m \u001b[1;33m=\u001b[0m \u001b[0mindexer\u001b[0m\u001b[1;33m[\u001b[0m\u001b[1;33m~\u001b[0m\u001b[0mmask\u001b[0m\u001b[1;33m]\u001b[0m\u001b[1;33m\u001b[0m\u001b[1;33m\u001b[0m\u001b[0m\n\u001b[0;32m   6663\u001b[0m         \u001b[1;32mreturn\u001b[0m \u001b[0mself\u001b[0m\u001b[1;33m.\u001b[0m\u001b[0mdelete\u001b[0m\u001b[1;33m(\u001b[0m\u001b[0mindexer\u001b[0m\u001b[1;33m)\u001b[0m\u001b[1;33m\u001b[0m\u001b[1;33m\u001b[0m\u001b[0m\n",
      "\u001b[1;31mKeyError\u001b[0m: \"['인구밀도'] not found in axis\""
     ]
    }
   ],
   "source": [
    "df2.drop('인구밀도')"
   ]
  },
  {
   "cell_type": "code",
   "execution_count": null,
   "id": "be7318a7",
   "metadata": {
    "ExecuteTime": {
     "end_time": "2022-12-12T05:29:02.457917Z",
     "start_time": "2022-12-12T05:29:02.457917Z"
    }
   },
   "outputs": [],
   "source": [
    "# axis = 0 : 행방향\n",
    "# axis = 1 : 열방향\n",
    "df2.drop('인구밀도',axis = 1, inplace = True)"
   ]
  },
  {
   "cell_type": "code",
   "execution_count": null,
   "id": "ada77be3",
   "metadata": {
    "ExecuteTime": {
     "end_time": "2022-12-12T05:29:02.458913Z",
     "start_time": "2022-12-12T05:29:02.458913Z"
    }
   },
   "outputs": [],
   "source": [
    "df2"
   ]
  },
  {
   "cell_type": "code",
   "execution_count": null,
   "id": "0ca48a6b",
   "metadata": {
    "ExecuteTime": {
     "end_time": "2022-12-12T05:29:02.459910Z",
     "start_time": "2022-12-12T05:29:02.459910Z"
    }
   },
   "outputs": [],
   "source": [
    "# 서울 데이터 삭제해보기\n",
    "# df 조회하기\n",
    "df2.drop('서울',axis = 0 ,inplace = True)\n"
   ]
  },
  {
   "cell_type": "code",
   "execution_count": null,
   "id": "ac7a10c9",
   "metadata": {
    "ExecuteTime": {
     "end_time": "2022-12-12T05:29:02.460907Z",
     "start_time": "2022-12-12T05:29:02.460907Z"
    }
   },
   "outputs": [],
   "source": [
    "df2"
   ]
  },
  {
   "cell_type": "code",
   "execution_count": null,
   "id": "30a1d3d1",
   "metadata": {
    "ExecuteTime": {
     "end_time": "2022-12-12T05:29:02.461905Z",
     "start_time": "2022-12-12T05:29:02.461905Z"
    }
   },
   "outputs": [],
   "source": [
    "# 여려개(전주, 인천)를 지우고 싶을 때 \n",
    "df2.drop(['전주','인천'],axis = 0 ,inplace = True)\n",
    "# df 조회하기"
   ]
  },
  {
   "cell_type": "code",
   "execution_count": null,
   "id": "ed315cdf",
   "metadata": {
    "ExecuteTime": {
     "end_time": "2022-12-12T05:29:02.462903Z",
     "start_time": "2022-12-12T05:29:02.461905Z"
    }
   },
   "outputs": [],
   "source": [
    "df2"
   ]
  },
  {
   "cell_type": "markdown",
   "id": "8c255237",
   "metadata": {},
   "source": [
    "#### 데이터 불러오는 함수\n"
   ]
  },
  {
   "cell_type": "code",
   "execution_count": null,
   "id": "a12bb531",
   "metadata": {
    "ExecuteTime": {
     "end_time": "2022-12-12T05:29:02.462903Z",
     "start_time": "2022-12-12T05:29:02.462903Z"
    }
   },
   "outputs": [],
   "source": [
    "# 한글 불러오는 encoding 방식 : cp949, utf8, euc-kr\n",
    "pd.read_csv('data/score.csv', encoding = 'euc-kr')"
   ]
  },
  {
   "cell_type": "code",
   "execution_count": 105,
   "id": "57e17b13",
   "metadata": {
    "ExecuteTime": {
     "end_time": "2022-12-12T11:02:44.308997Z",
     "start_time": "2022-12-12T11:02:44.297998Z"
    }
   },
   "outputs": [],
   "source": [
    "score = pd.read_csv('data/score.csv',\n",
    "            index_col = '과목',\n",
    "            encoding = 'euc-kr')# 데이터 프레임"
   ]
  },
  {
   "cell_type": "code",
   "execution_count": 110,
   "id": "96e2b7f4",
   "metadata": {
    "ExecuteTime": {
     "end_time": "2022-12-12T11:03:48.620027Z",
     "start_time": "2022-12-12T11:03:48.602105Z"
    }
   },
   "outputs": [
    {
     "data": {
      "text/html": [
       "<div>\n",
       "<style scoped>\n",
       "    .dataframe tbody tr th:only-of-type {\n",
       "        vertical-align: middle;\n",
       "    }\n",
       "\n",
       "    .dataframe tbody tr th {\n",
       "        vertical-align: top;\n",
       "    }\n",
       "\n",
       "    .dataframe thead th {\n",
       "        text-align: right;\n",
       "    }\n",
       "</style>\n",
       "<table border=\"1\" class=\"dataframe\">\n",
       "  <thead>\n",
       "    <tr style=\"text-align: right;\">\n",
       "      <th></th>\n",
       "      <th>1반</th>\n",
       "      <th>2반</th>\n",
       "      <th>3반</th>\n",
       "      <th>4반</th>\n",
       "    </tr>\n",
       "    <tr>\n",
       "      <th>과목</th>\n",
       "      <th></th>\n",
       "      <th></th>\n",
       "      <th></th>\n",
       "      <th></th>\n",
       "    </tr>\n",
       "  </thead>\n",
       "  <tbody>\n",
       "    <tr>\n",
       "      <th>수학</th>\n",
       "      <td>45</td>\n",
       "      <td>44</td>\n",
       "      <td>73</td>\n",
       "      <td>39</td>\n",
       "    </tr>\n",
       "    <tr>\n",
       "      <th>영어</th>\n",
       "      <td>76</td>\n",
       "      <td>92</td>\n",
       "      <td>45</td>\n",
       "      <td>69</td>\n",
       "    </tr>\n",
       "    <tr>\n",
       "      <th>국어</th>\n",
       "      <td>47</td>\n",
       "      <td>92</td>\n",
       "      <td>45</td>\n",
       "      <td>69</td>\n",
       "    </tr>\n",
       "    <tr>\n",
       "      <th>사회</th>\n",
       "      <td>92</td>\n",
       "      <td>81</td>\n",
       "      <td>85</td>\n",
       "      <td>40</td>\n",
       "    </tr>\n",
       "    <tr>\n",
       "      <th>과학</th>\n",
       "      <td>11</td>\n",
       "      <td>79</td>\n",
       "      <td>47</td>\n",
       "      <td>26</td>\n",
       "    </tr>\n",
       "  </tbody>\n",
       "</table>\n",
       "</div>"
      ],
      "text/plain": [
       "    1반  2반  3반  4반\n",
       "과목                \n",
       "수학  45  44  73  39\n",
       "영어  76  92  45  69\n",
       "국어  47  92  45  69\n",
       "사회  92  81  85  40\n",
       "과학  11  79  47  26"
      ]
     },
     "execution_count": 110,
     "metadata": {},
     "output_type": "execute_result"
    }
   ],
   "source": [
    "#데이터 확인하기\n",
    "# 크기 확인 : shape\n",
    "score.shape\n",
    "# 데이터 타입\n",
    "# 데이터프레임의 데이터 타입 확인은 각의 데이터로 접근해야 한다.\n",
    "score['1반'].dtype\n",
    "#컬럼명(이름) 확인\n",
    "score.columns\n",
    "#행이름\n",
    "score['1반'].dtype\n",
    "score"
   ]
  },
  {
   "cell_type": "markdown",
   "id": "66576a78",
   "metadata": {},
   "source": [
    "##### 데이터 정보 출력하는 함수"
   ]
  },
  {
   "cell_type": "code",
   "execution_count": 111,
   "id": "691dd1e6",
   "metadata": {
    "ExecuteTime": {
     "end_time": "2022-12-12T11:03:59.456080Z",
     "start_time": "2022-12-12T11:03:59.440197Z"
    }
   },
   "outputs": [
    {
     "name": "stdout",
     "output_type": "stream",
     "text": [
      "<class 'pandas.core.frame.DataFrame'>\n",
      "Index: 5 entries, 수학 to 과학\n",
      "Data columns (total 4 columns):\n",
      " #   Column  Non-Null Count  Dtype\n",
      "---  ------  --------------  -----\n",
      " 0   1반      5 non-null      int64\n",
      " 1   2반      5 non-null      int64\n",
      " 2   3반      5 non-null      int64\n",
      " 3   4반      5 non-null      int64\n",
      "dtypes: int64(4)\n",
      "memory usage: 200.0+ bytes\n"
     ]
    }
   ],
   "source": [
    "score.info()"
   ]
  },
  {
   "cell_type": "code",
   "execution_count": 112,
   "id": "707934ed",
   "metadata": {
    "ExecuteTime": {
     "end_time": "2022-12-12T11:06:05.934081Z",
     "start_time": "2022-12-12T11:06:05.929094Z"
    }
   },
   "outputs": [
    {
     "data": {
      "text/plain": [
       "1반    0\n",
       "2반    0\n",
       "3반    0\n",
       "4반    0\n",
       "dtype: int64"
      ]
     },
     "execution_count": 112,
     "metadata": {},
     "output_type": "execute_result"
    }
   ],
   "source": [
    "# 결측치 개수 확인해보기\n",
    "#.isnull()\n",
    "score.isnull().sum()"
   ]
  },
  {
   "cell_type": "markdown",
   "id": "a0e831a5",
   "metadata": {},
   "source": [
    "##### 결측치인지 아닌지 확인하는 함수"
   ]
  },
  {
   "cell_type": "code",
   "execution_count": null,
   "id": "0791557b",
   "metadata": {
    "ExecuteTime": {
     "end_time": "2022-12-12T05:29:02.467889Z",
     "start_time": "2022-12-12T05:29:02.467889Z"
    }
   },
   "outputs": [],
   "source": [
    "score.isnull()\n",
    "# 결측치 0 : True, 결측치X : False"
   ]
  },
  {
   "cell_type": "markdown",
   "id": "365198ff",
   "metadata": {},
   "source": [
    "##### 총합을 구하는 함수"
   ]
  },
  {
   "cell_type": "code",
   "execution_count": null,
   "id": "f8501407",
   "metadata": {
    "ExecuteTime": {
     "end_time": "2022-12-12T05:29:02.468887Z",
     "start_time": "2022-12-12T05:29:02.468887Z"
    }
   },
   "outputs": [],
   "source": [
    "score.isnull().sum(axis = 0)"
   ]
  },
  {
   "cell_type": "markdown",
   "id": "ff635491",
   "metadata": {},
   "source": [
    "##### 학급별 순위(성적이 높은 순부터)"
   ]
  },
  {
   "cell_type": "code",
   "execution_count": null,
   "id": "3e35f21f",
   "metadata": {
    "ExecuteTime": {
     "end_time": "2022-12-12T05:29:02.469884Z",
     "start_time": "2022-12-12T05:29:02.469884Z"
    }
   },
   "outputs": [],
   "source": [
    "sum1 = score.sum(axis = 0).sort_values(ascending=False)"
   ]
  },
  {
   "cell_type": "markdown",
   "id": "eb0ec90c",
   "metadata": {},
   "source": [
    "##### 과목별 합계를 계산해서 '합계' 컬럼으로 구하기\n"
   ]
  },
  {
   "cell_type": "code",
   "execution_count": 117,
   "id": "2ac17208",
   "metadata": {
    "ExecuteTime": {
     "end_time": "2022-12-12T11:09:10.081227Z",
     "start_time": "2022-12-12T11:09:10.063275Z"
    }
   },
   "outputs": [
    {
     "data": {
      "text/html": [
       "<div>\n",
       "<style scoped>\n",
       "    .dataframe tbody tr th:only-of-type {\n",
       "        vertical-align: middle;\n",
       "    }\n",
       "\n",
       "    .dataframe tbody tr th {\n",
       "        vertical-align: top;\n",
       "    }\n",
       "\n",
       "    .dataframe thead th {\n",
       "        text-align: right;\n",
       "    }\n",
       "</style>\n",
       "<table border=\"1\" class=\"dataframe\">\n",
       "  <thead>\n",
       "    <tr style=\"text-align: right;\">\n",
       "      <th></th>\n",
       "      <th>1반</th>\n",
       "      <th>2반</th>\n",
       "      <th>3반</th>\n",
       "      <th>4반</th>\n",
       "      <th>합계</th>\n",
       "    </tr>\n",
       "    <tr>\n",
       "      <th>과목</th>\n",
       "      <th></th>\n",
       "      <th></th>\n",
       "      <th></th>\n",
       "      <th></th>\n",
       "      <th></th>\n",
       "    </tr>\n",
       "  </thead>\n",
       "  <tbody>\n",
       "    <tr>\n",
       "      <th>수학</th>\n",
       "      <td>45</td>\n",
       "      <td>44</td>\n",
       "      <td>73</td>\n",
       "      <td>39</td>\n",
       "      <td>804</td>\n",
       "    </tr>\n",
       "    <tr>\n",
       "      <th>영어</th>\n",
       "      <td>76</td>\n",
       "      <td>92</td>\n",
       "      <td>45</td>\n",
       "      <td>69</td>\n",
       "      <td>1128</td>\n",
       "    </tr>\n",
       "    <tr>\n",
       "      <th>국어</th>\n",
       "      <td>47</td>\n",
       "      <td>92</td>\n",
       "      <td>45</td>\n",
       "      <td>69</td>\n",
       "      <td>1012</td>\n",
       "    </tr>\n",
       "    <tr>\n",
       "      <th>사회</th>\n",
       "      <td>92</td>\n",
       "      <td>81</td>\n",
       "      <td>85</td>\n",
       "      <td>40</td>\n",
       "      <td>1192</td>\n",
       "    </tr>\n",
       "    <tr>\n",
       "      <th>과학</th>\n",
       "      <td>11</td>\n",
       "      <td>79</td>\n",
       "      <td>47</td>\n",
       "      <td>26</td>\n",
       "      <td>652</td>\n",
       "    </tr>\n",
       "  </tbody>\n",
       "</table>\n",
       "</div>"
      ],
      "text/plain": [
       "    1반  2반  3반  4반    합계\n",
       "과목                      \n",
       "수학  45  44  73  39   804\n",
       "영어  76  92  45  69  1128\n",
       "국어  47  92  45  69  1012\n",
       "사회  92  81  85  40  1192\n",
       "과학  11  79  47  26   652"
      ]
     },
     "execution_count": 117,
     "metadata": {},
     "output_type": "execute_result"
    }
   ],
   "source": [
    "#과목별합계\n",
    "score.sum(axis = 1) #열방향으로 총합을 구함\n",
    "score['합계'] = score.sum(axis = 1)\n",
    "score"
   ]
  },
  {
   "cell_type": "code",
   "execution_count": 118,
   "id": "6c03cbb2",
   "metadata": {
    "ExecuteTime": {
     "end_time": "2022-12-12T11:09:28.365131Z",
     "start_time": "2022-12-12T11:09:28.353163Z"
    }
   },
   "outputs": [
    {
     "data": {
      "text/plain": [
       "(5, 5)"
      ]
     },
     "execution_count": 118,
     "metadata": {},
     "output_type": "execute_result"
    }
   ],
   "source": [
    "score.shape"
   ]
  },
  {
   "cell_type": "code",
   "execution_count": 127,
   "id": "bf4ffaba",
   "metadata": {
    "ExecuteTime": {
     "end_time": "2022-12-12T11:10:54.530540Z",
     "start_time": "2022-12-12T11:10:54.508598Z"
    }
   },
   "outputs": [
    {
     "data": {
      "text/plain": [
       "과목\n",
       "수학    268.000000\n",
       "영어    376.000000\n",
       "국어    337.333333\n",
       "사회    397.333333\n",
       "과학    217.333333\n",
       "Name: 합계, dtype: float64"
      ]
     },
     "execution_count": 127,
     "metadata": {},
     "output_type": "execute_result"
    }
   ],
   "source": [
    "\n",
    "score['합계']/len(score.columns[:3])"
   ]
  },
  {
   "cell_type": "markdown",
   "id": "dafee434",
   "metadata": {
    "ExecuteTime": {
     "end_time": "2022-12-09T07:42:32.475525Z",
     "start_time": "2022-12-09T07:42:32.462560Z"
    }
   },
   "source": [
    "#### 과목별 평균을 계산하여 컬럼 추가하기\n",
    "- '평균' 컬럼 추가"
   ]
  },
  {
   "cell_type": "code",
   "execution_count": 166,
   "id": "c42b608b",
   "metadata": {
    "ExecuteTime": {
     "end_time": "2022-12-12T11:20:20.803318Z",
     "start_time": "2022-12-12T11:20:20.784401Z"
    }
   },
   "outputs": [],
   "source": [
    "score['합계']/4\n",
    "score['합계']/score.columns[:4].size\n",
    "score['평균'] = score['합계']/len(score.columns[:4])"
   ]
  },
  {
   "cell_type": "code",
   "execution_count": 161,
   "id": "8cbf2988",
   "metadata": {
    "ExecuteTime": {
     "end_time": "2022-12-12T11:18:28.538278Z",
     "start_time": "2022-12-12T11:18:28.528304Z"
    }
   },
   "outputs": [
    {
     "data": {
      "text/html": [
       "<div>\n",
       "<style scoped>\n",
       "    .dataframe tbody tr th:only-of-type {\n",
       "        vertical-align: middle;\n",
       "    }\n",
       "\n",
       "    .dataframe tbody tr th {\n",
       "        vertical-align: top;\n",
       "    }\n",
       "\n",
       "    .dataframe thead th {\n",
       "        text-align: right;\n",
       "    }\n",
       "</style>\n",
       "<table border=\"1\" class=\"dataframe\">\n",
       "  <thead>\n",
       "    <tr style=\"text-align: right;\">\n",
       "      <th></th>\n",
       "      <th>1반</th>\n",
       "      <th>2반</th>\n",
       "      <th>3반</th>\n",
       "      <th>4반</th>\n",
       "      <th>합계</th>\n",
       "      <th>평균</th>\n",
       "    </tr>\n",
       "    <tr>\n",
       "      <th>과목</th>\n",
       "      <th></th>\n",
       "      <th></th>\n",
       "      <th></th>\n",
       "      <th></th>\n",
       "      <th></th>\n",
       "      <th></th>\n",
       "    </tr>\n",
       "  </thead>\n",
       "  <tbody>\n",
       "    <tr>\n",
       "      <th>수학</th>\n",
       "      <td>45</td>\n",
       "      <td>44</td>\n",
       "      <td>73</td>\n",
       "      <td>39</td>\n",
       "      <td>804</td>\n",
       "      <td>201.0</td>\n",
       "    </tr>\n",
       "    <tr>\n",
       "      <th>영어</th>\n",
       "      <td>76</td>\n",
       "      <td>92</td>\n",
       "      <td>45</td>\n",
       "      <td>69</td>\n",
       "      <td>1128</td>\n",
       "      <td>282.0</td>\n",
       "    </tr>\n",
       "    <tr>\n",
       "      <th>국어</th>\n",
       "      <td>47</td>\n",
       "      <td>92</td>\n",
       "      <td>45</td>\n",
       "      <td>69</td>\n",
       "      <td>1012</td>\n",
       "      <td>253.0</td>\n",
       "    </tr>\n",
       "    <tr>\n",
       "      <th>사회</th>\n",
       "      <td>92</td>\n",
       "      <td>81</td>\n",
       "      <td>85</td>\n",
       "      <td>40</td>\n",
       "      <td>1192</td>\n",
       "      <td>298.0</td>\n",
       "    </tr>\n",
       "    <tr>\n",
       "      <th>과학</th>\n",
       "      <td>11</td>\n",
       "      <td>79</td>\n",
       "      <td>47</td>\n",
       "      <td>26</td>\n",
       "      <td>652</td>\n",
       "      <td>163.0</td>\n",
       "    </tr>\n",
       "  </tbody>\n",
       "</table>\n",
       "</div>"
      ],
      "text/plain": [
       "    1반  2반  3반  4반    합계     평균\n",
       "과목                             \n",
       "수학  45  44  73  39   804  201.0\n",
       "영어  76  92  45  69  1128  282.0\n",
       "국어  47  92  45  69  1012  253.0\n",
       "사회  92  81  85  40  1192  298.0\n",
       "과학  11  79  47  26   652  163.0"
      ]
     },
     "execution_count": 161,
     "metadata": {},
     "output_type": "execute_result"
    }
   ],
   "source": [
    "score"
   ]
  },
  {
   "cell_type": "code",
   "execution_count": 138,
   "id": "11197748",
   "metadata": {
    "ExecuteTime": {
     "end_time": "2022-12-12T11:12:13.608076Z",
     "start_time": "2022-12-12T11:12:13.601123Z"
    }
   },
   "outputs": [],
   "source": [
    "score['평균'] = score.loc[:, :'4반'].mean(axis=1)"
   ]
  },
  {
   "cell_type": "code",
   "execution_count": null,
   "id": "10dcd123",
   "metadata": {
    "ExecuteTime": {
     "end_time": "2022-12-12T05:29:02.475868Z",
     "start_time": "2022-12-12T05:29:02.475868Z"
    }
   },
   "outputs": [],
   "source": [
    "score"
   ]
  },
  {
   "attachments": {
    "image.png": {
     "image/png": "[encoded data removed]"
    }
   },
   "cell_type": "markdown",
   "id": "8515ae82",
   "metadata": {},
   "source": [
    "##### 반 평균 계산해서 새로운 행으로 추가하기\n",
    " - '반평균'행 추가\n",
    " ![image.png](attachment:image.png)"
   ]
  },
  {
   "cell_type": "code",
   "execution_count": 167,
   "id": "6e6e9532",
   "metadata": {
    "ExecuteTime": {
     "end_time": "2022-12-12T11:21:29.271936Z",
     "start_time": "2022-12-12T11:21:29.259463Z"
    }
   },
   "outputs": [
    {
     "data": {
      "text/plain": [
       "1반     54.2\n",
       "2반     77.6\n",
       "3반     59.0\n",
       "4반     48.6\n",
       "합계    957.6\n",
       "평균    239.4\n",
       "dtype: float64"
      ]
     },
     "execution_count": 167,
     "metadata": {},
     "output_type": "execute_result"
    }
   ],
   "source": [
    " score.loc[:].mean(axis=0)"
   ]
  },
  {
   "cell_type": "code",
   "execution_count": 169,
   "id": "a1dd7208",
   "metadata": {
    "ExecuteTime": {
     "end_time": "2022-12-12T11:22:09.108765Z",
     "start_time": "2022-12-12T11:22:09.090813Z"
    }
   },
   "outputs": [
    {
     "data": {
      "text/plain": [
       "1반    54.2\n",
       "2반    77.6\n",
       "3반    59.0\n",
       "dtype: float64"
      ]
     },
     "execution_count": 169,
     "metadata": {},
     "output_type": "execute_result"
    }
   ],
   "source": [
    "score.iloc[:,:3].mean()"
   ]
  },
  {
   "cell_type": "code",
   "execution_count": null,
   "id": "b4bae257",
   "metadata": {
    "ExecuteTime": {
     "end_time": "2022-12-12T05:29:02.478859Z",
     "start_time": "2022-12-12T05:29:02.478859Z"
    }
   },
   "outputs": [],
   "source": [
    "\n",
    "# 인덱서를 이용해서 행 추가\n",
    "score.loc['반평균'] =  score.mean()"
   ]
  },
  {
   "cell_type": "code",
   "execution_count": null,
   "id": "5288a270",
   "metadata": {
    "ExecuteTime": {
     "end_time": "2022-12-12T05:29:02.479857Z",
     "start_time": "2022-12-12T05:29:02.479857Z"
    }
   },
   "outputs": [],
   "source": [
    " score"
   ]
  },
  {
   "cell_type": "markdown",
   "id": "b958652e",
   "metadata": {
    "ExecuteTime": {
     "end_time": "2022-12-09T08:20:30.642533Z",
     "start_time": "2022-12-09T08:20:30.623585Z"
    }
   },
   "source": [
    "##### 최댓값, 최송 구하는 함수\n",
    "- min,max"
   ]
  },
  {
   "cell_type": "code",
   "execution_count": null,
   "id": "c7ec6450",
   "metadata": {
    "ExecuteTime": {
     "end_time": "2022-12-12T05:29:02.480854Z",
     "start_time": "2022-12-12T05:29:02.480854Z"
    }
   },
   "outputs": [],
   "source": [
    "#max()\n",
    "score.max(axis =1)\n",
    "#min()\n",
    "score.min(axis =1)"
   ]
  },
  {
   "attachments": {
    "image.png": {
     "image/png": "[encoded data removed]"
    }
   },
   "cell_type": "markdown",
   "id": "28f4d8fb",
   "metadata": {},
   "source": [
    "##### 1~4 반까지 점수 중 과목별 가장 큰 값과 가장 작은 값의 차를 구하시오\n",
    "![image.png](attachment:image.png)"
   ]
  },
  {
   "cell_type": "code",
   "execution_count": null,
   "id": "54534c05",
   "metadata": {
    "ExecuteTime": {
     "end_time": "2022-12-12T05:29:02.480854Z",
     "start_time": "2022-12-12T05:29:02.480854Z"
    }
   },
   "outputs": [],
   "source": [
    " (score.iloc[:,:4].max(axis = 1))-( score.iloc[:,:4].min(axis = 1))"
   ]
  },
  {
   "cell_type": "code",
   "execution_count": null,
   "id": "02ded566",
   "metadata": {
    "ExecuteTime": {
     "end_time": "2022-12-09T08:26:52.676822Z",
     "start_time": "2022-12-09T08:26:52.663856Z"
    }
   },
   "outputs": [],
   "source": []
  },
  {
   "cell_type": "markdown",
   "id": "427f6c21",
   "metadata": {},
   "source": [
    "#### cut 함수 : 수치형 데이터 ->범주형 데이터"
   ]
  },
  {
   "cell_type": "code",
   "execution_count": 71,
   "id": "59055b0c",
   "metadata": {
    "ExecuteTime": {
     "end_time": "2022-12-12T05:35:19.480208Z",
     "start_time": "2022-12-12T05:35:19.460261Z"
    }
   },
   "outputs": [
    {
     "data": {
      "text/plain": [
       "0      NaN\n",
       "1     미성년자\n",
       "2     미성년자\n",
       "3       청년\n",
       "4       청년\n",
       "5       장년\n",
       "6       장년\n",
       "7       노년\n",
       "8       청년\n",
       "9       중년\n",
       "10      장년\n",
       "11     NaN\n",
       "dtype: category\n",
       "Categories (5, object): ['미성년자' < '청년' < '장년' < '중년' < '노년']"
      ]
     },
     "execution_count": 71,
     "metadata": {},
     "output_type": "execute_result"
    }
   ],
   "source": [
    "ages = [0,2,10,21,23,37,31,61,20,41,32,100] \n",
    "bins = [0,15,30,40,60,99] # 구간 설정\n",
    "labels = ['미성년자','청년','장년',\"중년\",'노년']\n",
    "cats = pd.cut(ages, bins= bins,labels = labels)\n",
    "\n",
    "cats\n",
    "pd.Series(cats)\n"
   ]
  },
  {
   "cell_type": "markdown",
   "id": "7dd2f683",
   "metadata": {},
   "source": [
    "##### groupby() : 데이터를 그룹별로 묶어 집계낼 수 있게 하는 함수"
   ]
  },
  {
   "cell_type": "code",
   "execution_count": 84,
   "id": "fc30c48a",
   "metadata": {
    "ExecuteTime": {
     "end_time": "2022-12-12T05:47:03.985127Z",
     "start_time": "2022-12-12T05:47:03.976180Z"
    }
   },
   "outputs": [
    {
     "data": {
      "text/html": [
       "<div>\n",
       "<style scoped>\n",
       "    .dataframe tbody tr th:only-of-type {\n",
       "        vertical-align: middle;\n",
       "    }\n",
       "\n",
       "    .dataframe tbody tr th {\n",
       "        vertical-align: top;\n",
       "    }\n",
       "\n",
       "    .dataframe thead th {\n",
       "        text-align: right;\n",
       "    }\n",
       "</style>\n",
       "<table border=\"1\" class=\"dataframe\">\n",
       "  <thead>\n",
       "    <tr style=\"text-align: right;\">\n",
       "      <th></th>\n",
       "      <th>Servived</th>\n",
       "      <th>Sex</th>\n",
       "      <th>PassengerId</th>\n",
       "    </tr>\n",
       "  </thead>\n",
       "  <tbody>\n",
       "    <tr>\n",
       "      <th>0</th>\n",
       "      <td>1</td>\n",
       "      <td>female</td>\n",
       "      <td>1</td>\n",
       "    </tr>\n",
       "    <tr>\n",
       "      <th>1</th>\n",
       "      <td>0</td>\n",
       "      <td>female</td>\n",
       "      <td>2</td>\n",
       "    </tr>\n",
       "    <tr>\n",
       "      <th>2</th>\n",
       "      <td>1</td>\n",
       "      <td>male</td>\n",
       "      <td>3</td>\n",
       "    </tr>\n",
       "    <tr>\n",
       "      <th>3</th>\n",
       "      <td>0</td>\n",
       "      <td>male</td>\n",
       "      <td>4</td>\n",
       "    </tr>\n",
       "    <tr>\n",
       "      <th>4</th>\n",
       "      <td>1</td>\n",
       "      <td>female</td>\n",
       "      <td>5</td>\n",
       "    </tr>\n",
       "  </tbody>\n",
       "</table>\n",
       "</div>"
      ],
      "text/plain": [
       "   Servived     Sex  PassengerId\n",
       "0         1  female            1\n",
       "1         0  female            2\n",
       "2         1    male            3\n",
       "3         0    male            4\n",
       "4         1  female            5"
      ]
     },
     "execution_count": 84,
     "metadata": {},
     "output_type": "execute_result"
    }
   ],
   "source": [
    "s1 = pd.Series([1,0,1,0,1])\n",
    "s2 = pd.Series(['female','female','male','male','female'])\n",
    "s3 = pd.Series([1,2,3,4,5])\n",
    "\n",
    "ti = pd.concat([s1,s2,s3],axis =1)\n",
    "ti.columns=['Servived','Sex','PassengerId']\n",
    "ti"
   ]
  },
  {
   "cell_type": "code",
   "execution_count": 85,
   "id": "13508942",
   "metadata": {
    "ExecuteTime": {
     "end_time": "2022-12-12T05:47:05.375596Z",
     "start_time": "2022-12-12T05:47:05.360619Z"
    }
   },
   "outputs": [
    {
     "data": {
      "text/html": [
       "<div>\n",
       "<style scoped>\n",
       "    .dataframe tbody tr th:only-of-type {\n",
       "        vertical-align: middle;\n",
       "    }\n",
       "\n",
       "    .dataframe tbody tr th {\n",
       "        vertical-align: top;\n",
       "    }\n",
       "\n",
       "    .dataframe thead th {\n",
       "        text-align: right;\n",
       "    }\n",
       "</style>\n",
       "<table border=\"1\" class=\"dataframe\">\n",
       "  <thead>\n",
       "    <tr style=\"text-align: right;\">\n",
       "      <th></th>\n",
       "      <th>Servived</th>\n",
       "    </tr>\n",
       "    <tr>\n",
       "      <th>Sex</th>\n",
       "      <th></th>\n",
       "    </tr>\n",
       "  </thead>\n",
       "  <tbody>\n",
       "    <tr>\n",
       "      <th>female</th>\n",
       "      <td>2</td>\n",
       "    </tr>\n",
       "    <tr>\n",
       "      <th>male</th>\n",
       "      <td>1</td>\n",
       "    </tr>\n",
       "  </tbody>\n",
       "</table>\n",
       "</div>"
      ],
      "text/plain": [
       "        Servived\n",
       "Sex             \n",
       "female         2\n",
       "male           1"
      ]
     },
     "execution_count": 85,
     "metadata": {},
     "output_type": "execute_result"
    }
   ],
   "source": [
    "# 성별에 따른 생존자 수 확인하기\n",
    "ti[['Servived','Sex']].groupby('Sex').sum() #성별을 기준으로 묶어서 결과를 반환"
   ]
  },
  {
   "cell_type": "code",
   "execution_count": 94,
   "id": "196e7b9c",
   "metadata": {
    "ExecuteTime": {
     "end_time": "2022-12-12T05:50:54.862530Z",
     "start_time": "2022-12-12T05:50:54.839591Z"
    }
   },
   "outputs": [
    {
     "data": {
      "text/html": [
       "<div>\n",
       "<style scoped>\n",
       "    .dataframe tbody tr th:only-of-type {\n",
       "        vertical-align: middle;\n",
       "    }\n",
       "\n",
       "    .dataframe tbody tr th {\n",
       "        vertical-align: top;\n",
       "    }\n",
       "\n",
       "    .dataframe thead th {\n",
       "        text-align: right;\n",
       "    }\n",
       "</style>\n",
       "<table border=\"1\" class=\"dataframe\">\n",
       "  <thead>\n",
       "    <tr style=\"text-align: right;\">\n",
       "      <th></th>\n",
       "      <th></th>\n",
       "      <th>PassengerId</th>\n",
       "    </tr>\n",
       "    <tr>\n",
       "      <th>Sex</th>\n",
       "      <th>Servived</th>\n",
       "      <th></th>\n",
       "    </tr>\n",
       "  </thead>\n",
       "  <tbody>\n",
       "    <tr>\n",
       "      <th rowspan=\"2\" valign=\"top\">female</th>\n",
       "      <th>0</th>\n",
       "      <td>1</td>\n",
       "    </tr>\n",
       "    <tr>\n",
       "      <th>1</th>\n",
       "      <td>2</td>\n",
       "    </tr>\n",
       "    <tr>\n",
       "      <th rowspan=\"2\" valign=\"top\">male</th>\n",
       "      <th>0</th>\n",
       "      <td>1</td>\n",
       "    </tr>\n",
       "    <tr>\n",
       "      <th>1</th>\n",
       "      <td>1</td>\n",
       "    </tr>\n",
       "  </tbody>\n",
       "</table>\n",
       "</div>"
      ],
      "text/plain": [
       "                 PassengerId\n",
       "Sex    Servived             \n",
       "female 0                   1\n",
       "       1                   2\n",
       "male   0                   1\n",
       "       1                   1"
      ]
     },
     "execution_count": 94,
     "metadata": {},
     "output_type": "execute_result"
    }
   ],
   "source": [
    "#성별에 따른 생존자 수/ 사망자 수 확인하기\n",
    "ti.groupby(by=['Sex','Servived']).count()\n",
    "#count()"
   ]
  },
  {
   "cell_type": "code",
   "execution_count": null,
   "id": "026d43cb",
   "metadata": {},
   "outputs": [],
   "source": []
  }
 ],
 "metadata": {
  "kernelspec": {
   "display_name": "Python 3 (ipykernel)",
   "language": "python",
   "name": "python3"
  },
  "language_info": {
   "codemirror_mode": {
    "name": "ipython",
    "version": 3
   },
   "file_extension": ".py",
   "mimetype": "text/x-python",
   "name": "python",
   "nbconvert_exporter": "python",
   "pygments_lexer": "ipython3",
   "version": "3.9.13"
  },
  "toc": {
   "base_numbering": 1,
   "nav_menu": {},
   "number_sections": true,
   "sideBar": true,
   "skip_h1_title": false,
   "title_cell": "Table of Contents",
   "title_sidebar": "Contents",
   "toc_cell": false,
   "toc_position": {},
   "toc_section_display": true,
   "toc_window_display": false
  }
 },
 "nbformat": 4,
 "nbformat_minor": 5
}
